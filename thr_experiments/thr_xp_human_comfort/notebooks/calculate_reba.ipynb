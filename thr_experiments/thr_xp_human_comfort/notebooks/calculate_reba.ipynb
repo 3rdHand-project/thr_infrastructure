{
 "cells": [
  {
   "cell_type": "code",
   "execution_count": 1,
   "metadata": {
    "collapsed": false
   },
   "outputs": [
    {
     "name": "stderr",
     "output_type": "stream",
     "text": [
      "Using Theano backend.\n"
     ]
    }
   ],
   "source": [
    "#!/usr/bin/env python\n",
    "import rospy\n",
    "from human_moveit_config.human_model import HumanModel\n",
    "import json\n",
    "import rospkg\n",
    "import time\n",
    "from sensor_msgs.msg import JointState\n",
    "from os.path import join\n",
    "from os.path import exists\n",
    "from baxter_commander.persistence import dicttostate\n",
    "import sys\n",
    "from reba_optim.reba_assess import RebaAssess\n",
    "from os import listdir\n",
    "from os.path import isdir\n",
    "from numpy.linalg import norm\n",
    "from numpy import array\n",
    "from keras.models import Sequential, model_from_json\n",
    "from keras.layers.core import Dense, Activation, Dropout\n",
    "import numpy as np\n",
    "import time"
   ]
  },
  {
   "cell_type": "code",
   "execution_count": 2,
   "metadata": {
    "collapsed": false
   },
   "outputs": [],
   "source": [
    "rospy.init_node('assess')\n",
    "rospack = rospkg.RosPack()"
   ]
  },
  {
   "cell_type": "code",
   "execution_count": 3,
   "metadata": {
    "collapsed": true
   },
   "outputs": [],
   "source": [
    "res_folder = 'results'"
   ]
  },
  {
   "cell_type": "code",
   "execution_count": 4,
   "metadata": {
    "collapsed": false
   },
   "outputs": [],
   "source": [
    "reba = RebaAssess()"
   ]
  },
  {
   "cell_type": "code",
   "execution_count": 5,
   "metadata": {
    "collapsed": true
   },
   "outputs": [],
   "source": [
    "# @Baptiste, if you wanna load the model I trained \n",
    "# and play around with it, use those two lines, \n",
    "# instead of the block way up above, \n",
    "# with the model=Sequential()... and so on\n",
    "\n",
    "modelName = \"bb-abc\"\n",
    "modelVersion = 1\n",
    "\n",
    "model = model_from_json(open(\"model-\"+modelName+'-'+str(modelVersion)+'.json').read())\n",
    "model.load_weights(\"model-\"+modelName+'-'+str(modelVersion)+'.h5')"
   ]
  },
  {
   "cell_type": "code",
   "execution_count": 6,
   "metadata": {
    "collapsed": true
   },
   "outputs": [],
   "source": [
    "joint_names = ['neck_0', 'neck_1', 'neck_2', 'spine_0', 'spine_1', 'spine_2', 'right_knee',\n",
    "               'left_knee', 'right_shoulder_0', 'right_shoulder_1', 'left_shoulder_0',\n",
    "               'left_shoulder_1', 'right_elbow_0', 'left_elbow_0', 'right_wrist_0',\n",
    "               'right_wrist_1', 'left_wrist_0', 'left_wrist_1']\n",
    "reba_joints = ['neck_0', 'neck_1', 'neck_2', 'spine_0', 'spine_1', 'spine_2',\n",
    "               'right_shoulder_0', 'right_shoulder_1', 'right_shoulder_2',\n",
    "               'right_elbow_0', 'right_elbow_1', 'right_wrist_0', 'right_wrist_1']"
   ]
  },
  {
   "cell_type": "code",
   "execution_count": 7,
   "metadata": {
    "collapsed": true
   },
   "outputs": [],
   "source": [
    "def distance(poseA, poseB):\n",
    "    posA = array(poseA[0])\n",
    "    posB = array(poseB[0])\n",
    "    return norm(posA - posB)"
   ]
  },
  {
   "cell_type": "code",
   "execution_count": 8,
   "metadata": {
    "collapsed": true
   },
   "outputs": [],
   "source": [
    "def dist_with_expected(recorded, expected, data):\n",
    "    for j in reba_joints:\n",
    "        rec = recorded.position[recorded.name.index(j)]\n",
    "        exp = expected[recorded.name.index(j)]\n",
    "        data['distance_to_expected']['reba'][j].append(abs(rec - exp))"
   ]
  },
  {
   "cell_type": "code",
   "execution_count": 9,
   "metadata": {
    "collapsed": false
   },
   "outputs": [],
   "source": [
    "def assess(id_user, condition, shape, epsilon=0.1):\n",
    "    # import file\n",
    "    dir_results = join(rospack.get_path(\"thr_xp_human_comfort\"), res_folder)\n",
    "    filename = join(dir_results, id_user, 'records', condition, shape, 'replay.json')\n",
    "\n",
    "    if exists(filename):\n",
    "        with open(filename) as data_file:\n",
    "            data = json.load(data_file)\n",
    "    \n",
    "        data['posture_score'] = {}\n",
    "        data['posture_score']['data'] = []\n",
    "        data['posture_score']['data_per_joint'] = {}\n",
    "        for j in joint_names:\n",
    "            data['posture_score']['data_per_joint'][j] = []\n",
    "        data['posture_score']['insertion_index'] = []\n",
    "        \n",
    "        # detect insertion time\n",
    "        start = -1\n",
    "        end = -1\n",
    "        for i in range(len(data['object_poses'])):\n",
    "            dict_state = data['states'][i]\n",
    "            # get the state\n",
    "            state = dicttostate(dict_state)\n",
    "            \n",
    "            #score = reba.assess_posture(state.joint_state.position, state.joint_state.name)\n",
    "            X = []\n",
    "            for j in joint_names:\n",
    "                X.append(state.joint_state.position[state.joint_state.name.index(j)])\n",
    "            score = model.predict([np.array([X])])\n",
    "            data['posture_score']['data'].append(score[0][0])\n",
    "            # get the data for all joints\n",
    "            reba.assess_posture_close(state.joint_state.position, state.joint_state.name,\n",
    "                                      data['posture_score']['data_per_joint'])\n",
    "            \n",
    "            shapeo_pose = data['object_poses'][i]['shapeo']\n",
    "            try:\n",
    "                hand_pose = data['records'][i]['right_hand']\n",
    "                if distance(shapeo_pose, hand_pose) < epsilon and start == -1:\n",
    "                    start = i\n",
    "                if distance(shapeo_pose, hand_pose) > epsilon and start != -1:\n",
    "                    end = i\n",
    "            except:\n",
    "                pass\n",
    "\n",
    "        if end == -1 and data['object_poses']:\n",
    "            end = len(data['object_poses'])\n",
    "            \n",
    "        data['posture_score']['insertion_index'] = [start, end]\n",
    "        \n",
    "        # check the distance between expected and recorded pose\n",
    "        data['distance_to_expected'] = {}\n",
    "        data['distance_to_expected']['reba'] = {}\n",
    "        for j in reba_joints:\n",
    "            data['distance_to_expected']['reba'][j] = []\n",
    "        if condition == 'reba':\n",
    "            with open(join(dir_results, id_user, 'poses', 'reba_pose.json')) as datafile:\n",
    "                expected_pose = json.load(datafile)['state']['position']\n",
    "                \n",
    "            for i in range(start, end):\n",
    "                dict_state = data['states'][i]\n",
    "                # get the state\n",
    "                state = dicttostate(dict_state).joint_state\n",
    "                \n",
    "                # calculate the distance\n",
    "                dist_with_expected(state, expected_pose, data)\n",
    "\n",
    "        # dump the json file\n",
    "        #with open('/tmp/test.json', 'w') as outfile:\n",
    "        with open(filename, 'w') as outfile:\n",
    "            json.dump(data, outfile, indent=4, sort_keys=True)\n",
    "    else:\n",
    "        print 'file ' + filename + ' not calculated yet'"
   ]
  },
  {
   "cell_type": "code",
   "execution_count": 10,
   "metadata": {
    "collapsed": false
   },
   "outputs": [],
   "source": [
    "#assess('6127', 'reba', 'hexagon', 0.1)"
   ]
  },
  {
   "cell_type": "code",
   "execution_count": 12,
   "metadata": {
    "collapsed": false
   },
   "outputs": [
    {
     "name": "stdout",
     "output_type": "stream",
     "text": [
      "file /home/buschbapti/catkin_ws/src/thr_infrastructure/thr_experiments/thr_xp_human_comfort/results/449/records/reba/star/replay.json not calculated yet\n",
      "file /home/buschbapti/catkin_ws/src/thr_infrastructure/thr_experiments/thr_xp_human_comfort/results/449/records/reba/hexagon/replay.json not calculated yet\n",
      "file /home/buschbapti/catkin_ws/src/thr_infrastructure/thr_experiments/thr_xp_human_comfort/results/449/records/reba/ellipse/replay.json not calculated yet\n",
      "file /home/buschbapti/catkin_ws/src/thr_infrastructure/thr_experiments/thr_xp_human_comfort/results/449/records/reba/slice/replay.json not calculated yet\n",
      "file /home/buschbapti/catkin_ws/src/thr_infrastructure/thr_experiments/thr_xp_human_comfort/results/449/records/reba/trapezium/replay.json not calculated yet\n",
      "file /home/buschbapti/catkin_ws/src/thr_infrastructure/thr_experiments/thr_xp_human_comfort/results/449/records/relative/star/replay.json not calculated yet\n",
      "file /home/buschbapti/catkin_ws/src/thr_infrastructure/thr_experiments/thr_xp_human_comfort/results/449/records/relative/hexagon/replay.json not calculated yet\n",
      "file /home/buschbapti/catkin_ws/src/thr_infrastructure/thr_experiments/thr_xp_human_comfort/results/449/records/relative/ellipse/replay.json not calculated yet\n",
      "file /home/buschbapti/catkin_ws/src/thr_infrastructure/thr_experiments/thr_xp_human_comfort/results/449/records/relative/slice/replay.json not calculated yet\n",
      "file /home/buschbapti/catkin_ws/src/thr_infrastructure/thr_experiments/thr_xp_human_comfort/results/449/records/relative/trapezium/replay.json not calculated yet\n"
     ]
    }
   ],
   "source": [
    "directory = join(rospack.get_path(\"thr_xp_human_comfort\"), res_folder)\n",
    "user_list = [name for name in listdir(directory) if isdir(join(directory, name))]\n",
    "\n",
    "# loop through all the users\n",
    "for user in user_list:\n",
    "\n",
    "    # get dictionnary for results\n",
    "    dir_results = join(directory, user, 'records')\n",
    "    conditions = [name for name in listdir(dir_results) if isdir(join(dir_results, name))]\n",
    "    shapes = ['star', 'hexagon', 'ellipse', 'slice', 'trapezium']\n",
    "\n",
    "    for c in conditions:\n",
    "        for s in shapes:\n",
    "            if rospy.is_shutdown():\n",
    "                sys.exit(0)\n",
    "            assess(user, c, s, 0.2)"
   ]
  },
  {
   "cell_type": "code",
   "execution_count": null,
   "metadata": {
    "collapsed": false
   },
   "outputs": [],
   "source": []
  },
  {
   "cell_type": "code",
   "execution_count": null,
   "metadata": {
    "collapsed": true
   },
   "outputs": [],
   "source": []
  }
 ],
 "metadata": {
  "kernelspec": {
   "display_name": "Python 2",
   "language": "python",
   "name": "python2"
  },
  "language_info": {
   "codemirror_mode": {
    "name": "ipython",
    "version": 2
   },
   "file_extension": ".py",
   "mimetype": "text/x-python",
   "name": "python",
   "nbconvert_exporter": "python",
   "pygments_lexer": "ipython2",
   "version": "2.7.6"
  }
 },
 "nbformat": 4,
 "nbformat_minor": 0
}
