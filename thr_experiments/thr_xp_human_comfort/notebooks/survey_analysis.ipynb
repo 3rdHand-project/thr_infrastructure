{
 "cells": [
  {
   "cell_type": "code",
   "execution_count": 1,
   "metadata": {
    "collapsed": true
   },
   "outputs": [],
   "source": [
    "import rospy\n",
    "import json\n",
    "import rospkg\n",
    "from os.path import join\n",
    "from itertools import permutations\n",
    "from numpy import mean\n",
    "from numpy import std\n",
    "import numpy as np\n",
    "import pylab as plt\n",
    "import matplotlib.patches as mpatches\n",
    "from itertools import combinations\n",
    "from scipy.stats import ttest_ind\n",
    "from scipy.stats import mannwhitneyu\n",
    "from scipy.stats.mstats import kruskalwallis\n",
    "from scipy.stats import sem"
   ]
  },
  {
   "cell_type": "code",
   "execution_count": 2,
   "metadata": {
    "collapsed": true
   },
   "outputs": [],
   "source": [
    "res_folder = 'results_pre_study'"
   ]
  },
  {
   "cell_type": "code",
   "execution_count": 3,
   "metadata": {
    "collapsed": true
   },
   "outputs": [],
   "source": [
    "res_folder = 'results'"
   ]
  },
  {
   "cell_type": "code",
   "execution_count": 4,
   "metadata": {
    "collapsed": false
   },
   "outputs": [],
   "source": [
    "def plot_results(data, savefile):\n",
    "    width = 0.25\n",
    "    ind = np.arange(12) + 1\n",
    "\n",
    "    # extract data\n",
    "    mean = {}\n",
    "    ste = {}\n",
    "    for c in cond_list:\n",
    "        mean[c] = []\n",
    "        ste[c] = []\n",
    "        for i in ind:\n",
    "            mean[c].append(data[c]['Q' + str(i)]['mean'])\n",
    "            ste[c].append(data[c]['Q' + str(i)]['sem'])\n",
    "\n",
    "    fig = plt.figure(facecolor=\"white\")\n",
    "    ax = fig.add_subplot(111)\n",
    "    plt.rcParams['font.size'] = 20\n",
    "\n",
    "    rects1 = ax.bar(ind - 3 * width / 2, mean['fixed'], width, color='tomato', label='fixed')\n",
    "    (line, caps, _) = plt.errorbar(ind - width, mean['fixed'], ste['fixed'], capsize=3, elinewidth=2,  ecolor='k')\n",
    "\n",
    "    line.remove()\n",
    "    for cap in caps:\n",
    "        cap.set_color('k')\n",
    "        cap.set_markeredgewidth(3)\n",
    "\n",
    "    rects2 = ax.bar(ind - width / 2, mean['relative'], width, color='darkseagreen', label='relative')\n",
    "    (line, caps, _) = plt.errorbar(ind, mean['relative'], ste['relative'], capsize=3, elinewidth=2,  ecolor='k')\n",
    "    \n",
    "    line.remove()\n",
    "    for cap in caps:\n",
    "        cap.set_color('k')\n",
    "        cap.set_markeredgewidth(3)\n",
    "\n",
    "    rects3 = ax.bar(ind + width / 2, mean['reba'], width, color='cornflowerblue', label='optimized')\n",
    "    (line, caps, _) = plt.errorbar(ind + width, mean['reba'], ste['reba'], capsize=3, elinewidth=2,  ecolor='k')\n",
    "\n",
    "    line.remove()\n",
    "    for cap in caps:\n",
    "        cap.set_color('k')\n",
    "        cap.set_markeredgewidth(3)\n",
    "\n",
    "    plt.plot((0, 13), (0, 0), 'k--',lw=2)\n",
    "    \n",
    "    legend = ax.legend(loc='lower left')\n",
    "    # Set the fontsize\n",
    "    for label in legend.get_texts():\n",
    "        label.set_fontsize('small')\n",
    "\n",
    "    for label in legend.get_lines():\n",
    "        label.set_linewidth(1.5)  # the legend line width\n",
    "\n",
    "    # add some text for labels, title and axes ticks\n",
    "    ax.set_ylabel('Average Score')\n",
    "    ax.set_ylim([-6, 6])\n",
    "    y_tick = np.arange(13) - 6\n",
    "    y_label = [str(x) for x in y_tick]\n",
    "    plt.yticks(y_tick, y_label, rotation='vertical')\n",
    "    \n",
    "    labels = []\n",
    "    for i in ind:\n",
    "        labels.append('Q' + str(i))\n",
    "    plt.xticks(ind, labels, rotation='vertical')\n",
    "    ax.set_xlim([0, 13])\n",
    "\n",
    "    # save svg file\n",
    "    fig.set_size_inches(12.8, 10.24)\n",
    "    plt.savefig(savefile, dpi=100, facecolor=fig.get_facecolor(), transparent=False)\n",
    "    plt.close()"
   ]
  },
  {
   "cell_type": "code",
   "execution_count": 31,
   "metadata": {
    "collapsed": false
   },
   "outputs": [],
   "source": [
    "def test_differrences(data):\n",
    "    t_test_res = {}\n",
    "    min_q = min([len(data[c]['questions'][0]) for c in cond_list])\n",
    "    min_gr = min([len(data[c]['gr0']) for c in cond_list])\n",
    "    min_sum = min([len(data[c]['sum']) for c in cond_list])\n",
    "    #min_q = -1\n",
    "    #min_gr = -1\n",
    "    #min_sum = -1\n",
    "    for comb in comb_list:\n",
    "        t_test_res[comb[0] + '_' + comb[1]] = {}\n",
    "        t_test_res[comb[0] + '_' + comb[1]]['p_values'] = []\n",
    "        for i in range(len(data[comb[0]]['questions'])):\n",
    "            # remove size when number of sample is equal\n",
    "            #t, p = ttest_ind(data[comb[0]]['questions'][i][:min_q], data[comb[1]]['questions'][i][:min_q])\n",
    "            t, p = mannwhitneyu(data[comb[0]]['questions'][i][:min_q], data[comb[1]]['questions'][i][:min_q])\n",
    "            #t, p = kruskalwallis(data[comb[0]]['questions'][i][:min_q], data[comb[1]]['questions'][i][:min_q])\n",
    "            t_test_res[comb[0] + '_' + comb[1]]['p_values'].append(p)\n",
    "        for i in range(3):\n",
    "            #t, p = ttest_ind(data[comb[0]]['gr' + str(i)][:min_gr], data[comb[1]]['gr' + str(i)][:min_gr])\n",
    "            t, p = mannwhitneyu(data[comb[0]]['gr' + str(i)][:min_gr], data[comb[1]]['gr' + str(i)][:min_gr])\n",
    "            #t, p = kruskalwallis(data[comb[0]]['gr' + str(i)][:min_gr], data[comb[1]]['gr' + str(i)][:min_gr])\n",
    "            t_test_res[comb[0] + '_' + comb[1]]['gr' + str(i)] = p\n",
    "        #t, p = ttest_ind(data[comb[0]]['sum'][:min_sum], data[comb[1]]['sum'][:min_sum])\n",
    "        t, p = mannwhitneyu(data[comb[0]]['sum'][:min_sum], data[comb[1]]['sum'][:min_sum])\n",
    "        #t, p = kruskalwallis(data[comb[0]]['sum'][:min_sum], data[comb[1]]['sum'][:min_sum])\n",
    "        t_test_res[comb[0] + '_' + comb[1]]['sum'] = p\n",
    "    return t_test_res"
   ]
  },
  {
   "cell_type": "code",
   "execution_count": 6,
   "metadata": {
    "collapsed": false
   },
   "outputs": [],
   "source": [
    "rospy.init_node('survey_analysis')"
   ]
  },
  {
   "cell_type": "code",
   "execution_count": 7,
   "metadata": {
    "collapsed": false
   },
   "outputs": [],
   "source": [
    "rospack = rospkg.RosPack()\n",
    "res_dir = join(rospack.get_path('thr_xp_human_comfort'), res_folder)\n",
    "filename = join(res_dir, 'survey.json')\n",
    "with open(filename) as datafile:\n",
    "    survey_data = json.load(datafile)"
   ]
  },
  {
   "cell_type": "code",
   "execution_count": 8,
   "metadata": {
    "collapsed": true
   },
   "outputs": [],
   "source": [
    "cond_list = ['reba', 'relative', 'fixed']\n",
    "comb_list = list(combinations(cond_list, 2))\n",
    "perm_list = list(permutations(cond_list, 2))"
   ]
  },
  {
   "cell_type": "code",
   "execution_count": 9,
   "metadata": {
    "collapsed": false
   },
   "outputs": [],
   "source": [
    "results = {}\n",
    "results['order'] = {}\n",
    "results['order']['fixed'] = 0\n",
    "results['order']['reba'] = 0\n",
    "results['order']['relative'] = 0\n",
    "\n",
    "results['questions'] = {}\n",
    "results['questions']['A'] = {}\n",
    "results['questions']['B'] = {}\n",
    "for c in cond_list:\n",
    "    results['questions'][c] = {}\n",
    "    results['questions']['A'][c] = {}\n",
    "    results['questions']['B'][c] = {}\n",
    "    for i in range(1, 13):\n",
    "        results['questions'][c]['Q' + str(i)] = {}\n",
    "        results['questions'][c]['Q' + str(i)]['data'] = []\n",
    "        results['questions']['A'][c]['Q' + str(i)] = {}\n",
    "        results['questions']['A'][c]['Q' + str(i)]['data'] = []\n",
    "        results['questions']['B'][c]['Q' + str(i)] = {}\n",
    "        results['questions']['B'][c]['Q' + str(i)]['data'] = []\n",
    "        \n",
    "for p in perm_list:\n",
    "    results['questions'][p[0] + '_' + p[1]] = [[],[]]\n",
    "\n",
    "# add dict to check number of people in each conditions\n",
    "results['conditions'] = {}\n",
    "for c in cond_list:\n",
    "    results['conditions'][c] = 0\n",
    "for p in perm_list:\n",
    "    results['conditions'][p[0] + '-' + p[1]] = 0."
   ]
  },
  {
   "cell_type": "code",
   "execution_count": 10,
   "metadata": {
    "collapsed": false
   },
   "outputs": [],
   "source": [
    "# get total number of user\n",
    "results['nb_users'] = len(survey_data)\n",
    "# go through all results\n",
    "for user_data in survey_data:\n",
    "    user_id = str(user_data['ID'])\n",
    "    # open config file of the user\n",
    "    filename = join(res_dir, user_id, 'user_config.json')\n",
    "    with open(filename) as datafile:\n",
    "        user_config = json.load(datafile)\n",
    "    user_cond = user_config['conditions']\n",
    "\n",
    "    if user_config['laterality'] == 'right':\n",
    "        # add conditions\n",
    "        for c in user_cond:\n",
    "            results['conditions'][c] += 1\n",
    "        results['conditions'][user_cond[0] + '-' + user_cond[1]] += 1\n",
    "\n",
    "        # get preference order\n",
    "        if user_data['O1[1]'] == 'A':\n",
    "            results['order'][user_cond[0]] += 1\n",
    "        else:\n",
    "            results['order'][user_cond[1]] += 1\n",
    "\n",
    "        code_list = ['A', 'B']\n",
    "        # get survey responses\n",
    "        for i in range(2):\n",
    "            for j in range(1, 13):\n",
    "                q_score = (-1)**(j-1) * user_data['Q' + code_list[i] + '1[SQ' + code_list[i] + str(j) + ']']\n",
    "                results['questions'][user_cond[i]]['Q' + str(j)]['data'].append(q_score)\n",
    "                results['questions'][code_list[i]][user_cond[i]]['Q' + str(j)]['data'].append(q_score)\n",
    "                results['questions'][user_cond[0] + '_' + user_cond[1]][i].append(q_score)"
   ]
  },
  {
   "cell_type": "code",
   "execution_count": 11,
   "metadata": {
    "collapsed": false
   },
   "outputs": [],
   "source": [
    "nb_user_cond = min([results['conditions']['reba'],\n",
    "               results['conditions']['relative'],\n",
    "               results['conditions']['fixed']])"
   ]
  },
  {
   "cell_type": "code",
   "execution_count": 12,
   "metadata": {
    "collapsed": false
   },
   "outputs": [
    {
     "name": "stdout",
     "output_type": "stream",
     "text": [
      "22 37\n"
     ]
    }
   ],
   "source": [
    "print nb_user_cond, results['nb_users']"
   ]
  },
  {
   "cell_type": "code",
   "execution_count": 13,
   "metadata": {
    "collapsed": false
   },
   "outputs": [],
   "source": [
    "# calculate global satisfaction and check statistical differences\n",
    "data_test = {}\n",
    "data_test['A'] = {}\n",
    "data_test['B'] = {}\n",
    "for c in cond_list:\n",
    "    data_test[c] = {}\n",
    "    data_test[c]['questions'] = []\n",
    "    data_test[c]['sum'] = []\n",
    "    data_test['A'][c] = {}\n",
    "    data_test['A'][c]['questions'] = []\n",
    "    data_test['A'][c]['sum'] = []\n",
    "    data_test['B'][c] = {}\n",
    "    data_test['B'][c]['questions'] = []\n",
    "    data_test['B'][c]['sum'] = []\n",
    "    for i in range(3):\n",
    "        data_test[c]['gr' + str(i)] = []\n",
    "        data_test['A'][c]['gr' + str(i)] = []\n",
    "        data_test['B'][c]['gr' + str(i)] = []\n",
    "    results['questions'][c]['satisfaction'] = 0.\n",
    "    for i in range(1, 13):\n",
    "        q = results['questions'][c]['Q' + str(i)]\n",
    "        qA = results['questions']['A'][c]['Q' + str(i)]\n",
    "        qB = results['questions']['B'][c]['Q' + str(i)]\n",
    "        data_test[c]['questions'].append(q['data'])\n",
    "        data_test[c]['sum'] += q['data']\n",
    "        data_test['A'][c]['questions'].append(qA['data'])\n",
    "        data_test['A'][c]['sum'] += qA['data']\n",
    "        data_test['B'][c]['questions'].append(qB['data'])\n",
    "        data_test['B'][c]['sum'] += qB['data']\n",
    "        if i < 5:\n",
    "            data_test[c]['gr0'] += q['data']\n",
    "            data_test['A'][c]['gr0'] += qA['data']\n",
    "            data_test['B'][c]['gr0'] += qB['data']\n",
    "        elif i < 9:\n",
    "            data_test[c]['gr1'] += q['data']\n",
    "            data_test['A'][c]['gr1'] += qA['data']\n",
    "            data_test['B'][c]['gr1'] += qB['data']\n",
    "        else:\n",
    "            data_test[c]['gr2'] += q['data']\n",
    "            data_test['A'][c]['gr2'] += qA['data']\n",
    "            data_test['B'][c]['gr2'] += qB['data']\n",
    "        # calculate mean of results\n",
    "        q['mean'] = mean(q['data'])\n",
    "        q['sem'] = sem(q['data'])\n",
    "        qA['mean'] = mean(qA['data'])\n",
    "        qA['sem'] = sem(qA['data'])\n",
    "        qB['mean'] = mean(qB['data'])\n",
    "        qB['sem'] = sem(qB['data'])\n",
    "        results['questions'][c]['satisfaction'] += q['mean']\n",
    "    results['questions'][c]['satisfaction'] /= 12"
   ]
  },
  {
   "cell_type": "code",
   "execution_count": 14,
   "metadata": {
    "collapsed": false
   },
   "outputs": [],
   "source": [
    "plot_results(results['questions'], join(res_dir, 'questions_results.svg'))\n",
    "plot_results(results['questions']['A'], join(res_dir, 'questions_results_A.svg'))\n",
    "plot_results(results['questions']['B'], join(res_dir, 'questions_results_B.svg'))"
   ]
  },
  {
   "cell_type": "code",
   "execution_count": 32,
   "metadata": {
    "collapsed": false
   },
   "outputs": [
    {
     "name": "stdout",
     "output_type": "stream",
     "text": [
      "reba: 0.49967350794\n",
      "reba gr0: 0.498300237579\n",
      "reba gr1: 0.498301609201\n",
      "reba gr2: 0.498308602399\n",
      "----------------------------------\n",
      "relative: 0.49967566045\n",
      "relative gr0: 0.4983191434\n",
      "relative gr1: 0.498307925438\n",
      "relative gr2: 0.498312280666\n",
      "----------------------------------\n",
      "fixed: 0.499745798364\n",
      "fixed gr0: 0.498674540149\n",
      "fixed gr1: 0.498686605623\n",
      "fixed gr2: 0.498676309389\n",
      "----------------------------------\n"
     ]
    }
   ],
   "source": [
    "t_test_res = test_differrences(data_test)\n",
    "t_test_A = test_differrences(data_test['A'])\n",
    "t_test_B = test_differrences(data_test['B'])\n",
    "for c in cond_list:\n",
    "    t, p = mannwhitneyu(data_test['A'][c]['sum'], data_test['A'][c]['sum'])\n",
    "    print c + ': ' + str(p)\n",
    "    for i in range(3):\n",
    "        t, p = mannwhitneyu(data_test['A'][c]['gr' + str(i)], data_test['A'][c]['gr' + str(i)])\n",
    "        print c + ' gr' + str(i) + ': ' + str(p)\n",
    "    print '----------------------------------'"
   ]
  },
  {
   "cell_type": "code",
   "execution_count": 33,
   "metadata": {
    "collapsed": false
   },
   "outputs": [
    {
     "name": "stdout",
     "output_type": "stream",
     "text": [
      "optimized_fixed & optimized_relative: 0.496297916098\n",
      "fixed_optimized & relative_optimized: 0.0364791330809\n",
      "----------------------\n",
      "relative_fixed & relative_optimized: 0.0101486076612\n",
      "fixed_relative & optimized_relative: 5.86094949602e-05\n",
      "----------------------\n",
      "fixed_optimized & fixed_relative: 0.449021858671\n",
      "relative_fixed & optimized_fixed: 0.0550563970093\n",
      "-------------------\n",
      "-------------------\n",
      "optimized: 0.0884206058264\n",
      "relative: 6.20094448631e-06\n",
      "fixed: 0.153026068635\n",
      "-------------------\n",
      "-------------------\n",
      "reba in both: 0.0884206058264\n",
      "fixed & relative: 0.000504056076558\n"
     ]
    }
   ],
   "source": [
    "# test differences between permutations\n",
    "t, p = mannwhitneyu(results['questions']['reba_fixed'][0], results['questions']['reba_relative'][0])\n",
    "print 'optimized_fixed & optimized_relative: ' + str(p)\n",
    "t, p = mannwhitneyu(results['questions']['fixed_reba'][1], results['questions']['relative_reba'][1])\n",
    "print 'fixed_optimized & relative_optimized: ' + str(p)\n",
    "print '----------------------'\n",
    "t, p = mannwhitneyu(results['questions']['relative_fixed'][0], results['questions']['relative_reba'][0])\n",
    "print 'relative_fixed & relative_optimized: ' + str(p)\n",
    "t, p = mannwhitneyu(results['questions']['fixed_relative'][1], results['questions']['reba_relative'][1])\n",
    "print 'fixed_relative & optimized_relative: ' + str(p)\n",
    "print '----------------------'\n",
    "t, p = mannwhitneyu(results['questions']['fixed_reba'][0], results['questions']['fixed_relative'][0])\n",
    "print 'fixed_optimized & fixed_relative: ' + str(p)\n",
    "t, p = mannwhitneyu(results['questions']['reba_fixed'][1], results['questions']['relative_fixed'][1])\n",
    "print 'relative_fixed & optimized_fixed: ' + str(p)\n",
    "\n",
    "print '-------------------'\n",
    "print '-------------------'\n",
    "\n",
    "reba_fixed =  results['questions']['reba_fixed'][0] + results['questions']['fixed_reba'][1]\n",
    "reba_relative = results['questions']['reba_relative'][0] + results['questions']['relative_reba'][1]\n",
    "relative_fixed =  results['questions']['relative_fixed'][0] + results['questions']['fixed_relative'][1]\n",
    "relative_reba = results['questions']['relative_reba'][0] + results['questions']['reba_relative'][1]\n",
    "fixed_relative =  results['questions']['fixed_relative'][0] + results['questions']['relative_fixed'][1]\n",
    "fixed_reba = results['questions']['fixed_reba'][0] + results['questions']['reba_fixed'][1]\n",
    "\n",
    "t, p = mannwhitneyu(reba_fixed, reba_relative)\n",
    "print 'optimized: ' + str(p)\n",
    "t, p = mannwhitneyu(relative_fixed, relative_reba)\n",
    "print 'relative: ' + str(p)\n",
    "t, p = mannwhitneyu(fixed_reba, fixed_relative)\n",
    "print 'fixed: ' + str(p)\n",
    "\n",
    "print '-------------------'\n",
    "print '-------------------'\n",
    "\n",
    "t, p = mannwhitneyu(reba_relative, reba_fixed)\n",
    "print 'reba in both: ' + str(p)\n",
    "t, p = mannwhitneyu(fixed_reba, relative_reba)\n",
    "print 'fixed & relative: ' + str(p)"
   ]
  },
  {
   "cell_type": "code",
   "execution_count": 34,
   "metadata": {
    "collapsed": true
   },
   "outputs": [],
   "source": [
    "test_data = t_test_res"
   ]
  },
  {
   "cell_type": "code",
   "execution_count": 35,
   "metadata": {
    "collapsed": false
   },
   "outputs": [],
   "source": [
    "for key, value in test_data.iteritems():\n",
    "    p_values = value['p_values']\n",
    "    value['not_independant'] = {}\n",
    "    value['not_independant']['question'] = []\n",
    "    value['not_independant']['p_value'] = []\n",
    "    for i in range(len(p_values)):\n",
    "        if p_values[i] > 0.05:\n",
    "            value['not_independant']['question'].append(i + 1)\n",
    "            value['not_independant']['p_value'].append(p_values[i])"
   ]
  },
  {
   "cell_type": "code",
   "execution_count": 36,
   "metadata": {
    "collapsed": false
   },
   "outputs": [
    {
     "name": "stdout",
     "output_type": "stream",
     "text": [
      "reba_fixed: [6]\n",
      "[0.27656539967967397]\n",
      "reba_relative: [1, 3, 4, 6, 7, 10]\n",
      "[0.05041298899397588, 0.068076138309199619, 0.21278194112756904, 0.27895899303784555, 0.12678317203512812, 0.065670740181230744]\n",
      "relative_fixed: [6]\n",
      "[0.14073173222717894]\n"
     ]
    }
   ],
   "source": [
    "for key, value in test_data.iteritems():\n",
    "    print key + ': ' + str(value['not_independant']['question'])\n",
    "    print value['not_independant']['p_value']"
   ]
  },
  {
   "cell_type": "code",
   "execution_count": 37,
   "metadata": {
    "collapsed": false
   },
   "outputs": [
    {
     "name": "stdout",
     "output_type": "stream",
     "text": [
      "reba: 1.15909090909\n",
      "relative: 0.604166666667\n",
      "fixed: -0.892361111111\n"
     ]
    }
   ],
   "source": [
    "for c in cond_list:\n",
    "    print c + ': ' + str(results['questions'][c]['satisfaction'])"
   ]
  },
  {
   "cell_type": "code",
   "execution_count": 38,
   "metadata": {
    "collapsed": false
   },
   "outputs": [
    {
     "name": "stdout",
     "output_type": "stream",
     "text": [
      "reba_fixed: 1.75654987313e-11\n",
      "reba_fixed gr0: 1.07314608432e-05\n",
      "reba_fixed gr1: 0.00123993921105\n",
      "reba_fixed gr2: 9.39154495314e-06\n",
      "----------------------------------\n",
      "reba_relative: 0.0645777401402\n",
      "reba_relative gr0: 0.221137904662\n",
      "reba_relative gr1: 0.337951633095\n",
      "reba_relative gr2: 0.0812428069624\n",
      "----------------------------------\n",
      "relative_fixed: 4.30928253952e-10\n",
      "relative_fixed gr0: 6.96658261428e-05\n",
      "relative_fixed gr1: 0.000747854487889\n",
      "relative_fixed gr2: 0.000141496013747\n",
      "----------------------------------\n"
     ]
    }
   ],
   "source": [
    "for key,value in test_data.iteritems():\n",
    "    print key + ': ' + str(value['sum'])\n",
    "    for i in range(3):\n",
    "        print key + ' gr' + str(i) + ': ' + str(value['gr' + str(i)])\n",
    "    print '----------------------------------'"
   ]
  },
  {
   "cell_type": "code",
   "execution_count": null,
   "metadata": {
    "collapsed": true
   },
   "outputs": [],
   "source": []
  },
  {
   "cell_type": "code",
   "execution_count": null,
   "metadata": {
    "collapsed": true
   },
   "outputs": [],
   "source": []
  }
 ],
 "metadata": {
  "kernelspec": {
   "display_name": "Python 2",
   "language": "python",
   "name": "python2"
  },
  "language_info": {
   "codemirror_mode": {
    "name": "ipython",
    "version": 2
   },
   "file_extension": ".py",
   "mimetype": "text/x-python",
   "name": "python",
   "nbconvert_exporter": "python",
   "pygments_lexer": "ipython2",
   "version": "2.7.6"
  }
 },
 "nbformat": 4,
 "nbformat_minor": 0
}
