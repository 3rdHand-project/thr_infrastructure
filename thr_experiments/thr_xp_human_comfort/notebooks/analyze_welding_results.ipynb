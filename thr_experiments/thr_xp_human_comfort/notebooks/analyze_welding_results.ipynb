{
 "cells": [
  {
   "cell_type": "code",
   "execution_count": 12,
   "metadata": {
    "collapsed": false
   },
   "outputs": [],
   "source": [
    "import rospy\n",
    "import json\n",
    "import glob\n",
    "import rospkg\n",
    "from os.path import join\n",
    "from numpy import mean\n",
    "from scipy.stats import sem\n",
    "import pylab as plt\n",
    "from os.path import basename"
   ]
  },
  {
   "cell_type": "code",
   "execution_count": 2,
   "metadata": {
    "collapsed": true
   },
   "outputs": [],
   "source": [
    "def plot_analysis(resfiles, resdir):\n",
    "        width = 0.2\n",
    "\n",
    "        fig = plt.figure(facecolor=\"white\")\n",
    "        ax = fig.add_subplot(111)\n",
    "        plt.rcParams['font.size'] = 20\n",
    "        \n",
    "        labels = ['fixed', 'position only', 'orientation only', 'position \\nand orientation']\n",
    "        colors = ['tomato', 'darkseagreen', 'cornflowerblue', 'slategray']\n",
    "        conditions = ['fixed', 'orientation_only', 'pose', 'position_only']\n",
    "        score_dict = {}\n",
    "        for c in conditions:\n",
    "            score_dict[c] = []\n",
    "        \n",
    "        # plot figure for each result file\n",
    "        for f in resfiles:\n",
    "            with open(f) as data_file:\n",
    "                data = json.load(data_file)\n",
    "            for c in conditions:\n",
    "                score_dict[c] += data[c]\n",
    "\n",
    "        for i in range(len(conditions)):\n",
    "            score = score_dict[conditions[i]]\n",
    "            ax.bar((i + 1) / 2.0 - width / 2, mean(score),\n",
    "                   width, color=colors[i], label=labels[i])\n",
    "            (line, caps, _) = plt.errorbar((i + 1) / 2.0, mean(score),\n",
    "                                           sem(score), capsize=3, elinewidth=2, ecolor='k')\n",
    "\n",
    "            line.remove()\n",
    "            for cap in caps:\n",
    "                cap.set_color('k')\n",
    "                cap.set_markeredgewidth(3)\n",
    "\n",
    "        legend = ax.legend(loc='upper right')\n",
    "        # Set the fontsize\n",
    "        for label in legend.get_texts():\n",
    "            label.set_fontsize('small')\n",
    "\n",
    "        for label in legend.get_lines():\n",
    "            label.set_linewidth(1.5)  # the legend line width\n",
    "\n",
    "        ax.set_ylabel('Average REBA Score')\n",
    "        ax.set_ylim([0, 8])\n",
    "        ax.set_xlim([0, 2.5])\n",
    "\n",
    "        # save svg file\n",
    "        savefile = join(resdir, 'average_reba_cost')\n",
    "        fig.set_size_inches(12.8, 10.24)\n",
    "        plt.savefig(savefile + '.svg', dpi=100, facecolor=fig.get_facecolor(), transparent=False)\n",
    "        plt.close()"
   ]
  },
  {
   "cell_type": "code",
   "execution_count": 51,
   "metadata": {
    "collapsed": true
   },
   "outputs": [],
   "source": [
    "def find_best_config(resdir):\n",
    "    resfiles = glob.glob(join(resdir, '*'))\n",
    "    best_score = 100\n",
    "    best_id = 0\n",
    "    for f in resfiles:\n",
    "        with open(join(f, 'cost_details.json')) as datafile:\n",
    "            data = json.load(datafile)\n",
    "        score = max(data['pose']['reba'])\n",
    "        score = data['pose']['mean_reba']\n",
    "        if  score < best_score:\n",
    "            best_id = basename(f)\n",
    "            best_score = score\n",
    "    return best_id, best_score"
   ]
  },
  {
   "cell_type": "code",
   "execution_count": 5,
   "metadata": {
    "collapsed": false
   },
   "outputs": [
    {
     "name": "stdout",
     "output_type": "stream",
     "text": [
      "Unable to register with master node [http://localhost:11311]: master may not be running yet. Will keep trying.\n"
     ]
    }
   ],
   "source": [
    "rospy.init_node('welding_analyzer')"
   ]
  },
  {
   "cell_type": "code",
   "execution_count": 58,
   "metadata": {
    "collapsed": true
   },
   "outputs": [],
   "source": [
    "res_folder = 'test'"
   ]
  },
  {
   "cell_type": "code",
   "execution_count": 59,
   "metadata": {
    "collapsed": true
   },
   "outputs": [],
   "source": [
    "rospack = rospkg.RosPack()\n",
    "pkg_expe = rospack.get_path('thr_xp_human_comfort')\n",
    "directory = join(pkg_expe, 'results', res_folder)"
   ]
  },
  {
   "cell_type": "code",
   "execution_count": 66,
   "metadata": {
    "collapsed": false
   },
   "outputs": [
    {
     "data": {
      "text/plain": [
       "('6324', 3.447674870491028)"
      ]
     },
     "execution_count": 66,
     "metadata": {},
     "output_type": "execute_result"
    }
   ],
   "source": [
    "find_best_config(directory)"
   ]
  },
  {
   "cell_type": "code",
   "execution_count": 37,
   "metadata": {
    "collapsed": false
   },
   "outputs": [
    {
     "data": {
      "text/plain": [
       "'/home/buschbapti/catkin_ws/src/thr_infrastructure/thr_experiments/thr_xp_human_comfort/results/welding_simulation_test2'"
      ]
     },
     "execution_count": 37,
     "metadata": {},
     "output_type": "execute_result"
    }
   ],
   "source": [
    "directory"
   ]
  },
  {
   "cell_type": "code",
   "execution_count": null,
   "metadata": {
    "collapsed": true
   },
   "outputs": [],
   "source": []
  }
 ],
 "metadata": {
  "kernelspec": {
   "display_name": "Python 2",
   "language": "python",
   "name": "python2"
  },
  "language_info": {
   "codemirror_mode": {
    "name": "ipython",
    "version": 2
   },
   "file_extension": ".py",
   "mimetype": "text/x-python",
   "name": "python",
   "nbconvert_exporter": "python",
   "pygments_lexer": "ipython2",
   "version": "2.7.6"
  }
 },
 "nbformat": 4,
 "nbformat_minor": 0
}
