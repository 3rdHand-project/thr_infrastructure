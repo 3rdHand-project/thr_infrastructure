{
 "cells": [
  {
   "cell_type": "code",
   "execution_count": 1,
   "metadata": {
    "collapsed": true
   },
   "outputs": [],
   "source": [
    "#!/usr/bin/env python\n",
    "import rospy\n",
    "from human_moveit_config.human_model import HumanModel\n",
    "import json\n",
    "import rospkg\n",
    "import time\n",
    "from sensor_msgs.msg import JointState\n",
    "from os.path import join\n",
    "from os.path import exists\n",
    "from baxter_commander.persistence import dicttostate\n",
    "import sys\n",
    "from reba_optim.reba_assess import RebaAssess\n",
    "from os import listdir\n",
    "from os.path import isdir\n",
    "from numpy import mean\n",
    "import numpy as np\n",
    "import pylab as plt\n",
    "import os\n",
    "import shutil\n",
    "from scipy.stats.mstats import kruskalwallis\n",
    "from scipy.stats import sem\n",
    "from scipy.stats import mannwhitneyu"
   ]
  },
  {
   "cell_type": "code",
   "execution_count": 2,
   "metadata": {
    "collapsed": false
   },
   "outputs": [],
   "source": [
    "rospy.init_node('analyse_posture')\n",
    "rospack = rospkg.RosPack()"
   ]
  },
  {
   "cell_type": "code",
   "execution_count": 3,
   "metadata": {
    "collapsed": true
   },
   "outputs": [],
   "source": [
    "reba_joints = ['neck_0', 'neck_1', 'neck_2', 'right_elbow_0', 'right_elbow_1',\n",
    "               'right_shoulder_0', 'right_shoulder_1', 'right_shoulder_2', \n",
    "               'right_wrist_0', 'right_wrist_1', 'spine_0', 'spine_1', 'spine_2']"
   ]
  },
  {
   "cell_type": "code",
   "execution_count": 4,
   "metadata": {
    "collapsed": true
   },
   "outputs": [],
   "source": [
    "res_folder = 'results'"
   ]
  },
  {
   "cell_type": "code",
   "execution_count": 5,
   "metadata": {
    "collapsed": true
   },
   "outputs": [],
   "source": [
    "def plot_reba(data, savefile):\n",
    "    width = 0.25\n",
    "    ind = np.arange(6) + 1\n",
    "    labels = ['neck', 'spine', 'shoulder', 'elbow', 'wrist', 'total']\n",
    "\n",
    "    # extract data\n",
    "    mean = {}\n",
    "    std = {}\n",
    "    for c in conditions:\n",
    "        mean[c] = []\n",
    "        std[c] = []\n",
    "        for l in labels:\n",
    "            if l in data[c].keys():\n",
    "                mean[c].append(np.mean(data[c][l]))\n",
    "                std[c].append(sem(data[c][l]))\n",
    "            else:\n",
    "                mean[c].append(np.mean(data[c]['right_' + l]))\n",
    "                std[c].append(sem(data[c]['right_' + l]))\n",
    "    \n",
    "    fig = plt.figure(facecolor=\"white\")\n",
    "    ax = fig.add_subplot(111)\n",
    "    plt.rcParams['font.size'] = 20\n",
    "\n",
    "    rects1 = ax.bar(ind - 3 * width / 2, mean['fixed'], width, color='tomato', label='fixed')\n",
    "    (line, caps, _) = plt.errorbar(ind - width, mean['fixed'], std['fixed'], capsize=3, elinewidth=2,  ecolor='k')\n",
    "\n",
    "    line.remove()\n",
    "    for cap in caps:\n",
    "        cap.set_color('k')\n",
    "        cap.set_markeredgewidth(3)\n",
    "\n",
    "    rects2 = ax.bar(ind - width / 2, mean['relative'], width, color='darkseagreen', label='relative')\n",
    "    (line, caps, _) = plt.errorbar(ind, mean['relative'], std['relative'], capsize=3, elinewidth=2,  ecolor='k')\n",
    "    \n",
    "    line.remove()\n",
    "    for cap in caps:\n",
    "        cap.set_color('k')\n",
    "        cap.set_markeredgewidth(3)\n",
    "\n",
    "    rects3 = ax.bar(ind + width / 2, mean['reba'], width, color='cornflowerblue', label='optimized')\n",
    "    (line, caps, _) = plt.errorbar(ind + width, mean['reba'], std['reba'], capsize=3, elinewidth=2,  ecolor='k')\n",
    "\n",
    "    line.remove()\n",
    "    for cap in caps:\n",
    "        cap.set_color('k')\n",
    "        cap.set_markeredgewidth(3)\n",
    "    \n",
    "    legend = ax.legend(loc='upper left')\n",
    "    # Set the fontsize\n",
    "    for label in legend.get_texts():\n",
    "        label.set_fontsize('small')\n",
    "\n",
    "    for label in legend.get_lines():\n",
    "        label.set_linewidth(1.5)  # the legend line width\n",
    "\n",
    "    # add some text for labels, title and axes ticks\n",
    "    ax.set_ylabel('Average REBA Score')\n",
    "    ax.set_ylim([0, 5])\n",
    "    y_tick = np.arange(5)\n",
    "    y_label = [str(x) for x in y_tick]\n",
    "    plt.yticks(y_tick, y_label, rotation='vertical')\n",
    "    \n",
    "    plt.xticks(ind, labels, rotation='vertical')\n",
    "    ax.set_xlim([0, 7])\n",
    "\n",
    "    # save svg file\n",
    "    fig.set_size_inches(12.8, 10.24)\n",
    "    plt.savefig(savefile, dpi=100, facecolor=fig.get_facecolor(), transparent=False)\n",
    "    plt.close()"
   ]
  },
  {
   "cell_type": "code",
   "execution_count": 6,
   "metadata": {
    "collapsed": true
   },
   "outputs": [],
   "source": [
    "def plot_results(data, start, end, savefile):\n",
    "    width = 0.25\n",
    "    ind = np.arange(len(data))\n",
    "\n",
    "    fig = plt.figure(facecolor=\"white\")\n",
    "    ax = fig.add_subplot(111)\n",
    "    plt.rcParams['font.size'] = 20\n",
    "\n",
    "    rects = ax.bar(ind - width / 2, data, width, color='steelblue')\n",
    "    \n",
    "    # add some text for labels, title and axes ticks\n",
    "    ax.set_ylabel('REBA Score')\n",
    "    ax.set_xlabel('Timestep')\n",
    "    ax.set_ylim([0, 6])\n",
    "    ax.set_xlim([0, len(data)])\n",
    "    \n",
    "    plt.plot((start, start), (0, 6), 'k--',lw=2)\n",
    "    plt.plot((end, end), (0, 6), 'k--',lw=2)\n",
    "\n",
    "    # save svg file\n",
    "    fig.set_size_inches(12.8, 10.24)\n",
    "    plt.savefig(savefile, dpi=100, facecolor=fig.get_facecolor(), transparent=False)\n",
    "    plt.close()"
   ]
  },
  {
   "cell_type": "code",
   "execution_count": 7,
   "metadata": {
    "collapsed": true
   },
   "outputs": [],
   "source": [
    "def extract_reba_value(filename, user, cond, shape):\n",
    "    group_dict = {}\n",
    "    if exists(filename):\n",
    "        with open(filename) as data_file:\n",
    "            data = json.load(data_file)\n",
    "        if data['posture_score']['data']:\n",
    "            start = data['posture_score']['insertion_index'][0]\n",
    "            end = data['posture_score']['insertion_index'][1]\n",
    "            \n",
    "            # plot the figure\n",
    "            fig_dir = join(rospack.get_path('thr_xp_human_comfort'), res_folder, user, 'figures')\n",
    "            if not exists(fig_dir):\n",
    "                os.makedirs(fig_dir)\n",
    "            cond_dir = join(fig_dir, cond)\n",
    "            if not exists(cond_dir):\n",
    "                os.makedirs(cond_dir)\n",
    "            filename = join(cond_dir, shape + '.svg')\n",
    "            if exists(filename):\n",
    "                os.remove(filename)\n",
    "            \n",
    "            if start != -1:\n",
    "                plot_results(data['posture_score']['data'], start, end, filename)\n",
    "\n",
    "                # calculate the score per group\n",
    "                for g in groups:\n",
    "                    score = np.zeros(len(data['posture_score']['data_per_joint'][g[0] + '_0']))\n",
    "                    for i in range(g[1]):\n",
    "                        score = score + np.array(data['posture_score']['data_per_joint'][g[0] + '_' + str(i)])\n",
    "                    group_dict[g[0]] = mean(score[start:end])\n",
    "\n",
    "                return mean(data['posture_score']['data'][start:end]), group_dict\n",
    "            else:\n",
    "                print 'Problem with file ' + filename +', incorrect detection'\n",
    "                return None, {} \n",
    "        else:\n",
    "            print 'Problem with file ' + filename\n",
    "            return None, {}\n",
    "    else:\n",
    "        print 'File ' + filename + ' not yet calculated'\n",
    "        return None, {}"
   ]
  },
  {
   "cell_type": "code",
   "execution_count": 8,
   "metadata": {
    "collapsed": true
   },
   "outputs": [],
   "source": [
    "def calculate_pose_diff(filename):\n",
    "    if exists(filename):\n",
    "        with open(filename) as data_file:\n",
    "            data = json.load(data_file)\n",
    "        # analyze the joint difference\n",
    "        for j in reba_joints:\n",
    "            if data['distance_to_expected']['reba'][j]:\n",
    "                dist_dict[j].append(mean(data['distance_to_expected']['reba'][j])) "
   ]
  },
  {
   "cell_type": "code",
   "execution_count": 14,
   "metadata": {
    "collapsed": false
   },
   "outputs": [
    {
     "name": "stdout",
     "output_type": "stream",
     "text": [
      "Problem with file /home/buschbapti/catkin_ws/src/thr_infrastructure/thr_experiments/thr_xp_human_comfort/results/3306/figures/fixed/ellipse.svg, incorrect detection\n",
      "Problem with file /home/buschbapti/catkin_ws/src/thr_infrastructure/thr_experiments/thr_xp_human_comfort/results/17/figures/reba/hexagon.svg, incorrect detection\n",
      "Problem with file /home/buschbapti/catkin_ws/src/thr_infrastructure/thr_experiments/thr_xp_human_comfort/results/17/figures/relative/star.svg, incorrect detection\n",
      "Problem with file /home/buschbapti/catkin_ws/src/thr_infrastructure/thr_experiments/thr_xp_human_comfort/results/3734/figures/reba/star.svg, incorrect detection\n",
      "Problem with file /home/buschbapti/catkin_ws/src/thr_infrastructure/thr_experiments/thr_xp_human_comfort/results/3734/figures/reba/slice.svg, incorrect detection\n",
      "Problem with file /home/buschbapti/catkin_ws/src/thr_infrastructure/thr_experiments/thr_xp_human_comfort/results/988/figures/fixed/hexagon.svg, incorrect detection\n",
      "Problem with file /home/buschbapti/catkin_ws/src/thr_infrastructure/thr_experiments/thr_xp_human_comfort/results/988/figures/relative/star.svg, incorrect detection\n",
      "Problem with file /home/buschbapti/catkin_ws/src/thr_infrastructure/thr_experiments/thr_xp_human_comfort/results/988/figures/relative/hexagon.svg, incorrect detection\n",
      "Problem with file /home/buschbapti/catkin_ws/src/thr_infrastructure/thr_experiments/thr_xp_human_comfort/results/988/figures/relative/ellipse.svg, incorrect detection\n",
      "Problem with file /home/buschbapti/catkin_ws/src/thr_infrastructure/thr_experiments/thr_xp_human_comfort/results/988/figures/relative/slice.svg, incorrect detection\n",
      "File /home/buschbapti/catkin_ws/src/thr_infrastructure/thr_experiments/thr_xp_human_comfort/results/449/records/reba/star/replay.json not yet calculated\n",
      "File /home/buschbapti/catkin_ws/src/thr_infrastructure/thr_experiments/thr_xp_human_comfort/results/449/records/reba/hexagon/replay.json not yet calculated\n",
      "File /home/buschbapti/catkin_ws/src/thr_infrastructure/thr_experiments/thr_xp_human_comfort/results/449/records/reba/ellipse/replay.json not yet calculated\n",
      "File /home/buschbapti/catkin_ws/src/thr_infrastructure/thr_experiments/thr_xp_human_comfort/results/449/records/reba/slice/replay.json not yet calculated\n",
      "File /home/buschbapti/catkin_ws/src/thr_infrastructure/thr_experiments/thr_xp_human_comfort/results/449/records/reba/trapezium/replay.json not yet calculated\n",
      "File /home/buschbapti/catkin_ws/src/thr_infrastructure/thr_experiments/thr_xp_human_comfort/results/449/records/relative/star/replay.json not yet calculated\n",
      "File /home/buschbapti/catkin_ws/src/thr_infrastructure/thr_experiments/thr_xp_human_comfort/results/449/records/relative/hexagon/replay.json not yet calculated\n",
      "File /home/buschbapti/catkin_ws/src/thr_infrastructure/thr_experiments/thr_xp_human_comfort/results/449/records/relative/ellipse/replay.json not yet calculated\n",
      "File /home/buschbapti/catkin_ws/src/thr_infrastructure/thr_experiments/thr_xp_human_comfort/results/449/records/relative/slice/replay.json not yet calculated\n",
      "File /home/buschbapti/catkin_ws/src/thr_infrastructure/thr_experiments/thr_xp_human_comfort/results/449/records/relative/trapezium/replay.json not yet calculated\n",
      "Problem with file /home/buschbapti/catkin_ws/src/thr_infrastructure/thr_experiments/thr_xp_human_comfort/results/3608/figures/reba/ellipse.svg, incorrect detection\n",
      "Problem with file /home/buschbapti/catkin_ws/src/thr_infrastructure/thr_experiments/thr_xp_human_comfort/results/3608/figures/reba/trapezium.svg, incorrect detection\n",
      "Problem with file /home/buschbapti/catkin_ws/src/thr_infrastructure/thr_experiments/thr_xp_human_comfort/results/3608/figures/relative/ellipse.svg, incorrect detection\n",
      "Problem with file /home/buschbapti/catkin_ws/src/thr_infrastructure/thr_experiments/thr_xp_human_comfort/results/4985/figures/fixed/ellipse.svg, incorrect detection\n",
      "Problem with file /home/buschbapti/catkin_ws/src/thr_infrastructure/thr_experiments/thr_xp_human_comfort/results/4985/figures/reba/star.svg, incorrect detection\n",
      "Problem with file /home/buschbapti/catkin_ws/src/thr_infrastructure/thr_experiments/thr_xp_human_comfort/results/6831/figures/fixed/ellipse.svg, incorrect detection\n",
      "Problem with file /home/buschbapti/catkin_ws/src/thr_infrastructure/thr_experiments/thr_xp_human_comfort/results/6958/figures/fixed/ellipse.svg, incorrect detection\n",
      "Problem with file /home/buschbapti/catkin_ws/src/thr_infrastructure/thr_experiments/thr_xp_human_comfort/results/8487/figures/relative/star.svg, incorrect detection\n",
      "Problem with file /home/buschbapti/catkin_ws/src/thr_infrastructure/thr_experiments/thr_xp_human_comfort/results/644/figures/fixed/ellipse.svg, incorrect detection\n"
     ]
    }
   ],
   "source": [
    "directory = join(rospack.get_path(\"thr_xp_human_comfort\"), res_folder)\n",
    "user_list = [name for name in listdir(directory) if isdir(join(directory, name))]\n",
    "\n",
    "mean_score = {}\n",
    "conditions = ['relative', 'fixed', 'reba']\n",
    "groups = [['left_elbow', 1], ['right_elbow', 1], ['left_shoulder', 2], ['right_shoulder', 2],\n",
    "          ['left_wrist', 2], ['right_wrist', 2], ['spine', 3], ['neck', 3]]\n",
    "test_parts = ['neck', 'spine', 'right_shoulder', 'right_elbow', 'right_wrist', 'total']\n",
    "for c in conditions:\n",
    "    mean_score[c] = {}\n",
    "    mean_score[c]['total'] = []\n",
    "    for g in groups:\n",
    "         mean_score[c][g[0]] = []\n",
    "\n",
    "dist_dict = {}\n",
    "for j in reba_joints:\n",
    "    dist_dict[j] = []\n",
    "\n",
    "# loop through all the users\n",
    "for user in user_list:\n",
    "    # get dictionnary for results\n",
    "    dir_results = join(directory, user, 'records')\n",
    "    conf_file = join(directory, user, 'user_config.json')\n",
    "    with open(conf_file) as datafile:\n",
    "        user_config = json.load(datafile)\n",
    "\n",
    "    if user_config['laterality'] == 'right':\n",
    "        cond = [name for name in listdir(dir_results) if isdir(join(dir_results, name))]\n",
    "        shapes = ['star', 'hexagon', 'ellipse', 'slice', 'trapezium']\n",
    "\n",
    "        for c in cond:\n",
    "            user_res = []\n",
    "            user_dict = {}\n",
    "            for g in groups:\n",
    "                 user_dict[g[0]] = []\n",
    "            for s in shapes:\n",
    "                if rospy.is_shutdown():\n",
    "                    sys.exit(0)\n",
    "                # import file\n",
    "                filename = join(dir_results, c, s, 'replay.json')\n",
    "                score, group_dict = extract_reba_value(filename, user, c, s)\n",
    "\n",
    "                if score is not None:\n",
    "                    user_res.append(score)\n",
    "                    for g in groups:\n",
    "                        user_dict[g[0]].append(group_dict[g[0]])\n",
    "                \n",
    "                # calculate the dist diff\n",
    "                calculate_pose_diff(filename)\n",
    "            if user_res:\n",
    "                mean_score[c]['total'].append(mean(user_res))\n",
    "                #mean_score[c]['total'] += user_res\n",
    "            for g in groups:\n",
    "                if user_dict[g[0]]:\n",
    "                    mean_score[c][g[0]].append(mean(user_dict[g[0]]))\n",
    "                    #mean_score[c][g[0]] += user_dict[g[0]]"
   ]
  },
  {
   "cell_type": "code",
   "execution_count": 17,
   "metadata": {
    "collapsed": false
   },
   "outputs": [],
   "source": [
    "plot_reba(mean_score, join(directory, 'reba_score.svg'))"
   ]
  },
  {
   "cell_type": "code",
   "execution_count": 18,
   "metadata": {
    "collapsed": false
   },
   "outputs": [],
   "source": [
    "# analyze differences\n",
    "stat_res = {}\n",
    "for t in test_parts:\n",
    "    stat_res[t] = {}\n",
    "    h, p_o_f = mannwhitneyu(mean_score['reba'][t], mean_score['fixed'][t])\n",
    "    stat_res[t]['optimized-fixed'] = p_o_f\n",
    "    h, p_o_r = mannwhitneyu(mean_score['reba'][t], mean_score['relative'][t])\n",
    "    stat_res[t]['optimized-relative'] = p_o_r\n",
    "    h, p_r_f = mannwhitneyu(mean_score['relative'][t], mean_score['fixed'][t])\n",
    "    stat_res[t]['relative-fixed'] = p_r_f"
   ]
  },
  {
   "cell_type": "code",
   "execution_count": 19,
   "metadata": {
    "collapsed": false
   },
   "outputs": [
    {
     "name": "stdout",
     "output_type": "stream",
     "text": [
      "right_wrist: {'optimized-fixed': 0.17254453576321488, 'optimized-relative': 0.00011256185340893553, 'relative-fixed': 7.2719047050793037e-05}\n",
      "spine: {'optimized-fixed': 0.0059691640253727489, 'optimized-relative': 0.063343299687005139, 'relative-fixed': 0.21864677221355189}\n",
      "right_elbow: {'optimized-fixed': 0.16679489358111321, 'optimized-relative': 0.094116040040317539, 'relative-fixed': 0.012377997778622073}\n",
      "right_shoulder: {'optimized-fixed': 7.5930542052711256e-05, 'optimized-relative': 0.00075674821015689917, 'relative-fixed': 0.010470865628359928}\n",
      "total: {'optimized-fixed': 1.8196002188620497e-05, 'optimized-relative': 0.03007087399401414, 'relative-fixed': 0.0054932347763029478}\n",
      "neck: {'optimized-fixed': 0.45922810642696954, 'optimized-relative': 0.035205134029188283, 'relative-fixed': 0.056430328748040014}\n"
     ]
    }
   ],
   "source": [
    "for key, values in stat_res.iteritems():\n",
    "    print key + ': ' + str(values)"
   ]
  },
  {
   "cell_type": "code",
   "execution_count": 13,
   "metadata": {
    "collapsed": false
   },
   "outputs": [
    {
     "name": "stdout",
     "output_type": "stream",
     "text": [
      "neck_2: 0.349779495813\n",
      "neck_0: 0.428281084641\n",
      "neck_1: 0.47744476742\n",
      "right_wrist_0: 0.359536229445\n",
      "right_wrist_1: 0.44949433872\n",
      "right_shoulder_0: 0.200892735567\n",
      "right_shoulder_1: 0.325957225995\n",
      "right_shoulder_2: 0.53251107708\n",
      "right_elbow_0: 0.769420316615\n",
      "right_elbow_1: 0.0672974101843\n",
      "spine_2: 0.133143108347\n",
      "spine_1: 0.160699611011\n",
      "spine_0: 0.0967436837188\n",
      "------------\n",
      "head: 0.418501782625\n",
      "spine: 0.130195467692\n",
      "shoulder: 0.353120346214\n",
      "elbow: 0.4183588634\n",
      "wrist: 0.404515284082\n",
      "------------\n",
      "total mean: 0.334707775735\n"
     ]
    }
   ],
   "source": [
    "total_dist = []\n",
    "for key, value in dist_dict.iteritems():\n",
    "    total_dist.append(mean(value))\n",
    "    print key + ': ' + str(mean(value))\n",
    "print '------------'\n",
    "\n",
    "head_mean = mean([dist_dict['neck_0'], dist_dict['neck_1'], dist_dict['neck_2']])\n",
    "spine_mean = mean([dist_dict['spine_0'], dist_dict['spine_1'], dist_dict['spine_2']])\n",
    "shoulder_mean = mean([dist_dict['right_shoulder_0'],\n",
    "                      dist_dict['right_shoulder_1'],\n",
    "                      dist_dict['right_shoulder_2']])\n",
    "elbow_mean = mean([dist_dict['right_elbow_0'], dist_dict['right_elbow_1']])\n",
    "wrist_mean = mean([dist_dict['right_wrist_0'], dist_dict['right_wrist_1']])\n",
    "\n",
    "print 'head: ' + str(head_mean)\n",
    "print 'spine: ' + str(spine_mean)\n",
    "print 'shoulder: ' + str(shoulder_mean)\n",
    "print 'elbow: ' + str(elbow_mean)\n",
    "print 'wrist: ' + str(wrist_mean)\n",
    "\n",
    "print '------------'\n",
    "print 'total mean: ' + str(mean(total_dist))"
   ]
  },
  {
   "cell_type": "code",
   "execution_count": null,
   "metadata": {
    "collapsed": true
   },
   "outputs": [],
   "source": []
  },
  {
   "cell_type": "code",
   "execution_count": null,
   "metadata": {
    "collapsed": true
   },
   "outputs": [],
   "source": []
  }
 ],
 "metadata": {
  "kernelspec": {
   "display_name": "Python 2",
   "language": "python",
   "name": "python2"
  },
  "language_info": {
   "codemirror_mode": {
    "name": "ipython",
    "version": 2
   },
   "file_extension": ".py",
   "mimetype": "text/x-python",
   "name": "python",
   "nbconvert_exporter": "python",
   "pygments_lexer": "ipython2",
   "version": "2.7.6"
  }
 },
 "nbformat": 4,
 "nbformat_minor": 0
}
