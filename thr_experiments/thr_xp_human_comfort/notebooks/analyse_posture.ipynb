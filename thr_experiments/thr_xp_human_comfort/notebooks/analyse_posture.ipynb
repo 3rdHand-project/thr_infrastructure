{
 "cells": [
  {
   "cell_type": "code",
   "execution_count": 1,
   "metadata": {
    "collapsed": false
   },
   "outputs": [],
   "source": [
    "#!/usr/bin/env python\n",
    "import rospy\n",
    "from human_moveit_config.human_model import HumanModel\n",
    "import json\n",
    "import rospkg\n",
    "import time\n",
    "from sensor_msgs.msg import JointState\n",
    "from os.path import join\n",
    "from os.path import exists\n",
    "from baxter_commander.persistence import dicttostate\n",
    "import sys\n",
    "from reba_optim.reba_assess import RebaAssess\n",
    "from os import listdir\n",
    "from os.path import isdir\n",
    "from numpy import mean\n",
    "import numpy as np\n",
    "import pylab as plt\n",
    "import os\n",
    "import shutil\n",
    "from scipy.stats.mstats import kruskalwallis\n",
    "from scipy.stats import wilcoxon\n",
    "from scipy.stats import ttest_rel \n",
    "from scipy.stats import sem\n",
    "from scipy.stats import mannwhitneyu\n",
    "from itertools import permutations\n",
    "from itertools import combinations"
   ]
  },
  {
   "cell_type": "code",
   "execution_count": 2,
   "metadata": {
    "collapsed": false
   },
   "outputs": [],
   "source": [
    "rospy.init_node('analyse_posture')\n",
    "rospack = rospkg.RosPack()"
   ]
  },
  {
   "cell_type": "code",
   "execution_count": 3,
   "metadata": {
    "collapsed": true
   },
   "outputs": [],
   "source": [
    "reba_joints = ['neck_0', 'neck_1', 'neck_2', 'right_elbow_0', 'right_elbow_1',\n",
    "               'right_shoulder_0', 'right_shoulder_1', 'right_shoulder_2', \n",
    "               'right_wrist_0', 'right_wrist_1', 'spine_0', 'spine_1', 'spine_2']"
   ]
  },
  {
   "cell_type": "code",
   "execution_count": 4,
   "metadata": {
    "collapsed": true
   },
   "outputs": [],
   "source": [
    "res_folder = join('results', 'user_study')"
   ]
  },
  {
   "cell_type": "code",
   "execution_count": 5,
   "metadata": {
    "collapsed": true
   },
   "outputs": [],
   "source": [
    "def plot_reba(data, savefile):\n",
    "    width = 0.25\n",
    "    ind = np.arange(6) + 1\n",
    "    labels = ['neck', 'spine', 'shoulder', 'elbow', 'wrist', 'total']\n",
    "\n",
    "    # extract data\n",
    "    mean = {}\n",
    "    std = {}\n",
    "    for c in conditions:\n",
    "        mean[c] = []\n",
    "        std[c] = []\n",
    "        for l in labels:\n",
    "            if l in data[c].keys():\n",
    "                mean[c].append(np.mean(data[c][l]))\n",
    "                std[c].append(sem(data[c][l]))\n",
    "            else:\n",
    "                mean[c].append(np.mean(data[c]['right_' + l]))\n",
    "                std[c].append(sem(data[c]['right_' + l]))\n",
    "    \n",
    "    fig = plt.figure(facecolor=\"white\")\n",
    "    ax = fig.add_subplot(111)\n",
    "    plt.rcParams['font.size'] = 20\n",
    "\n",
    "    rects1 = ax.bar(ind - 3 * width / 2, mean['fixed'], width, color='tomato', label='fixed')\n",
    "    (line, caps, _) = plt.errorbar(ind - width, mean['fixed'], std['fixed'], capsize=3, elinewidth=2,  ecolor='k')\n",
    "\n",
    "    line.remove()\n",
    "    for cap in caps:\n",
    "        cap.set_color('k')\n",
    "        cap.set_markeredgewidth(3)\n",
    "\n",
    "    rects2 = ax.bar(ind - width / 2, mean['relative'], width, color='darkseagreen', label='relative')\n",
    "    (line, caps, _) = plt.errorbar(ind, mean['relative'], std['relative'], capsize=3, elinewidth=2,  ecolor='k')\n",
    "    \n",
    "    line.remove()\n",
    "    for cap in caps:\n",
    "        cap.set_color('k')\n",
    "        cap.set_markeredgewidth(3)\n",
    "\n",
    "    rects3 = ax.bar(ind + width / 2, mean['reba'], width, color='cornflowerblue', label='optimized')\n",
    "    (line, caps, _) = plt.errorbar(ind + width, mean['reba'], std['reba'], capsize=3, elinewidth=2,  ecolor='k')\n",
    "\n",
    "    line.remove()\n",
    "    for cap in caps:\n",
    "        cap.set_color('k')\n",
    "        cap.set_markeredgewidth(3)\n",
    "    \n",
    "    legend = ax.legend(loc='upper left')\n",
    "    # Set the fontsize\n",
    "    for label in legend.get_texts():\n",
    "        label.set_fontsize('small')\n",
    "\n",
    "    for label in legend.get_lines():\n",
    "        label.set_linewidth(1.5)  # the legend line width\n",
    "\n",
    "    # add some text for labels, title and axes ticks\n",
    "    ax.set_ylabel('Average REBA Score')\n",
    "    ax.set_ylim([0, 5])\n",
    "    y_tick = np.arange(5)\n",
    "    y_label = [str(x) for x in y_tick]\n",
    "    plt.yticks(y_tick, y_label, rotation='vertical')\n",
    "    \n",
    "    plt.xticks(ind, labels, rotation='vertical')\n",
    "    ax.set_xlim([0, 7])\n",
    "\n",
    "    # save svg file\n",
    "    fig.set_size_inches(12.8, 10.24)\n",
    "    plt.savefig(savefile, dpi=100, facecolor=fig.get_facecolor(), transparent=False)\n",
    "    plt.close()"
   ]
  },
  {
   "cell_type": "code",
   "execution_count": 6,
   "metadata": {
    "collapsed": true
   },
   "outputs": [],
   "source": [
    "def plot_results(data, start, end, savefile):\n",
    "    width = 0.25\n",
    "    ind = np.arange(len(data))\n",
    "\n",
    "    fig = plt.figure(facecolor=\"white\")\n",
    "    ax = fig.add_subplot(111)\n",
    "    plt.rcParams['font.size'] = 20\n",
    "\n",
    "    rects = ax.bar(ind - width / 2, data, width, color='steelblue')\n",
    "    \n",
    "    # add some text for labels, title and axes ticks\n",
    "    ax.set_ylabel('REBA Score')\n",
    "    ax.set_xlabel('Timestep')\n",
    "    ax.set_ylim([0, 6])\n",
    "    ax.set_xlim([0, len(data)])\n",
    "    \n",
    "    plt.plot((start, start), (0, 6), 'k--',lw=2)\n",
    "    plt.plot((end, end), (0, 6), 'k--',lw=2)\n",
    "\n",
    "    # save svg file\n",
    "    fig.set_size_inches(12.8, 10.24)\n",
    "    plt.savefig(savefile, dpi=100, facecolor=fig.get_facecolor(), transparent=False)\n",
    "    plt.close()"
   ]
  },
  {
   "cell_type": "code",
   "execution_count": 7,
   "metadata": {
    "collapsed": true
   },
   "outputs": [],
   "source": [
    "def extract_reba_value(filename, user, cond, shape):\n",
    "    group_dict = {}\n",
    "    if exists(filename):\n",
    "        with open(filename) as data_file:\n",
    "            data = json.load(data_file)\n",
    "        if data['posture_score']['data']:\n",
    "            start = data['posture_score']['insertion_index'][0]\n",
    "            end = data['posture_score']['insertion_index'][1]\n",
    "            \n",
    "            # plot the figure\n",
    "            fig_dir = join(rospack.get_path('thr_xp_human_comfort'), res_folder, user, 'figures')\n",
    "            if not exists(fig_dir):\n",
    "                os.makedirs(fig_dir)\n",
    "            cond_dir = join(fig_dir, cond)\n",
    "            if not exists(cond_dir):\n",
    "                os.makedirs(cond_dir)\n",
    "            filename = join(cond_dir, shape + '.svg')\n",
    "            if exists(filename):\n",
    "                os.remove(filename)\n",
    "            \n",
    "            if start != -1:\n",
    "                plot_results(data['posture_score']['data'], start, end, filename)\n",
    "\n",
    "                # calculate the score per group\n",
    "                for g in groups:\n",
    "                    score = np.zeros(len(data['posture_score']['data_per_joint'][g[0] + '_0']))\n",
    "                    for i in range(g[1]):\n",
    "                        score = score + np.array(data['posture_score']['data_per_joint'][g[0] + '_' + str(i)])\n",
    "                    group_dict[g[0]] = mean(score[start:end])\n",
    "\n",
    "                return mean(data['posture_score']['data'][start:end]), group_dict\n",
    "            else:\n",
    "                print 'Problem with file ' + filename +', incorrect detection'\n",
    "                return None, {} \n",
    "        else:\n",
    "            print 'Problem with file ' + filename\n",
    "            return None, {}\n",
    "    else:\n",
    "        print 'File ' + filename + ' not yet calculated'\n",
    "        return None, {}"
   ]
  },
  {
   "cell_type": "code",
   "execution_count": 8,
   "metadata": {
    "collapsed": true
   },
   "outputs": [],
   "source": [
    "def calculate_pose_diff(filename):\n",
    "    if exists(filename):\n",
    "        with open(filename) as data_file:\n",
    "            data = json.load(data_file)\n",
    "        # analyze the joint difference\n",
    "        for j in reba_joints:\n",
    "            if data['distance_to_expected']['reba'][j]:\n",
    "                dist_dict[j].append(mean(data['distance_to_expected']['reba'][j])) "
   ]
  },
  {
   "cell_type": "code",
   "execution_count": 9,
   "metadata": {
    "collapsed": false
   },
   "outputs": [
    {
     "name": "stdout",
     "output_type": "stream",
     "text": [
      "Problem with file /home/buschbapti/catkin_ws/src/thr_infrastructure/thr_experiments/thr_xp_human_comfort/results/3306/figures/fixed/ellipse.svg, incorrect detection\n",
      "Problem with file /home/buschbapti/catkin_ws/src/thr_infrastructure/thr_experiments/thr_xp_human_comfort/results/17/figures/reba/hexagon.svg, incorrect detection\n",
      "Problem with file /home/buschbapti/catkin_ws/src/thr_infrastructure/thr_experiments/thr_xp_human_comfort/results/17/figures/relative/star.svg, incorrect detection\n",
      "Problem with file /home/buschbapti/catkin_ws/src/thr_infrastructure/thr_experiments/thr_xp_human_comfort/results/3734/figures/reba/star.svg, incorrect detection\n",
      "Problem with file /home/buschbapti/catkin_ws/src/thr_infrastructure/thr_experiments/thr_xp_human_comfort/results/3734/figures/reba/slice.svg, incorrect detection\n",
      "Problem with file /home/buschbapti/catkin_ws/src/thr_infrastructure/thr_experiments/thr_xp_human_comfort/results/988/figures/fixed/hexagon.svg, incorrect detection\n",
      "Problem with file /home/buschbapti/catkin_ws/src/thr_infrastructure/thr_experiments/thr_xp_human_comfort/results/988/figures/relative/star.svg, incorrect detection\n",
      "Problem with file /home/buschbapti/catkin_ws/src/thr_infrastructure/thr_experiments/thr_xp_human_comfort/results/988/figures/relative/hexagon.svg, incorrect detection\n",
      "Problem with file /home/buschbapti/catkin_ws/src/thr_infrastructure/thr_experiments/thr_xp_human_comfort/results/988/figures/relative/ellipse.svg, incorrect detection\n",
      "Problem with file /home/buschbapti/catkin_ws/src/thr_infrastructure/thr_experiments/thr_xp_human_comfort/results/988/figures/relative/slice.svg, incorrect detection\n",
      "Problem with file /home/buschbapti/catkin_ws/src/thr_infrastructure/thr_experiments/thr_xp_human_comfort/results/3608/figures/reba/ellipse.svg, incorrect detection\n",
      "Problem with file /home/buschbapti/catkin_ws/src/thr_infrastructure/thr_experiments/thr_xp_human_comfort/results/3608/figures/reba/trapezium.svg, incorrect detection\n",
      "Problem with file /home/buschbapti/catkin_ws/src/thr_infrastructure/thr_experiments/thr_xp_human_comfort/results/3608/figures/relative/ellipse.svg, incorrect detection\n",
      "Problem with file /home/buschbapti/catkin_ws/src/thr_infrastructure/thr_experiments/thr_xp_human_comfort/results/4985/figures/fixed/ellipse.svg, incorrect detection\n",
      "Problem with file /home/buschbapti/catkin_ws/src/thr_infrastructure/thr_experiments/thr_xp_human_comfort/results/4985/figures/reba/star.svg, incorrect detection\n",
      "Problem with file /home/buschbapti/catkin_ws/src/thr_infrastructure/thr_experiments/thr_xp_human_comfort/results/6831/figures/fixed/ellipse.svg, incorrect detection\n",
      "Problem with file /home/buschbapti/catkin_ws/src/thr_infrastructure/thr_experiments/thr_xp_human_comfort/results/7066/figures/relative/star.svg, incorrect detection\n",
      "Problem with file /home/buschbapti/catkin_ws/src/thr_infrastructure/thr_experiments/thr_xp_human_comfort/results/6958/figures/fixed/ellipse.svg, incorrect detection\n",
      "Problem with file /home/buschbapti/catkin_ws/src/thr_infrastructure/thr_experiments/thr_xp_human_comfort/results/8487/figures/relative/star.svg, incorrect detection\n",
      "Problem with file /home/buschbapti/catkin_ws/src/thr_infrastructure/thr_experiments/thr_xp_human_comfort/results/644/figures/fixed/ellipse.svg, incorrect detection\n"
     ]
    }
   ],
   "source": [
    "directory = join(rospack.get_path(\"thr_xp_human_comfort\"), res_folder)\n",
    "user_list = [name for name in listdir(directory) if isdir(join(directory, name))]\n",
    "\n",
    "mean_score = {}\n",
    "conditions = ['relative', 'fixed', 'reba']\n",
    "perm_list = list(permutations(conditions, 2))\n",
    "comb_list = list(combinations(conditions, 2))\n",
    "\n",
    "groups = [['left_elbow', 1], ['right_elbow', 1], ['left_shoulder', 2], ['right_shoulder', 2],\n",
    "          ['left_wrist', 2], ['right_wrist', 2], ['spine', 3], ['neck', 3]]\n",
    "test_parts = ['neck', 'spine', 'right_shoulder', 'right_elbow', 'right_wrist', 'total']\n",
    "\n",
    "for c in conditions:\n",
    "    mean_score[c] = {}\n",
    "    mean_score[c]['total'] = []\n",
    "    for g in groups:\n",
    "         mean_score[c][g[0]] = []\n",
    "            \n",
    "for c in perm_list:\n",
    "    mean_score[c[0] + '-' + c[1]] = {}\n",
    "    mean_score[c[0] + '-' + c[1]]['total'] = [[], []]\n",
    "    for g in groups:\n",
    "         mean_score[c[0] + '-' + c[1]][g[0]] = [[], []]\n",
    "\n",
    "dist_dict = {}\n",
    "for j in reba_joints:\n",
    "    dist_dict[j] = []\n",
    "\n",
    "# loop through all the users\n",
    "for user in user_list:\n",
    "    # get dictionnary for results\n",
    "    dir_results = join(directory, user, 'records')\n",
    "    conf_file = join(directory, user, 'user_config.json')\n",
    "    with open(conf_file) as datafile:\n",
    "        user_config = json.load(datafile)\n",
    "\n",
    "    if user_config['laterality'] == 'right':\n",
    "        cond = [name for name in listdir(dir_results) if isdir(join(dir_results, name))]\n",
    "        shapes = ['star', 'hexagon', 'ellipse', 'slice', 'trapezium']\n",
    "\n",
    "        for i in range(len(cond)):\n",
    "            c = cond[i]\n",
    "            user_res = []\n",
    "            user_dict = {}\n",
    "            for g in groups:\n",
    "                 user_dict[g[0]] = []\n",
    "            for s in shapes:\n",
    "                if rospy.is_shutdown():\n",
    "                    sys.exit(0)\n",
    "                # import file\n",
    "                filename = join(dir_results, c, s, 'replay.json')\n",
    "                score, group_dict = extract_reba_value(filename, user, c, s)\n",
    "\n",
    "                if score is not None:\n",
    "                    user_res.append(score)\n",
    "                    for g in groups:\n",
    "                        user_dict[g[0]].append(group_dict[g[0]])\n",
    "                \n",
    "                # calculate the dist diff\n",
    "                calculate_pose_diff(filename)\n",
    "            if user_res:\n",
    "                m = mean(user_res)\n",
    "                mean_score[c]['total'].append(m)\n",
    "                mean_score[cond[0] + '-' + cond[1]]['total'][i].append(m)\n",
    "                #mean_score[c]['total'] += user_res\n",
    "            for g in groups:\n",
    "                if user_dict[g[0]]:\n",
    "                    m = mean(user_dict[g[0]])\n",
    "                    mean_score[c][g[0]].append(m)\n",
    "                    mean_score[cond[0] + '-' + cond[1]][g[0]][i].append(m)\n",
    "                    #mean_score[c][g[0]] += user_dict[g[0]]"
   ]
  },
  {
   "cell_type": "code",
   "execution_count": 10,
   "metadata": {
    "collapsed": false
   },
   "outputs": [],
   "source": [
    "plot_reba(mean_score, join(directory, 'reba_score.svg'))"
   ]
  },
  {
   "cell_type": "code",
   "execution_count": 11,
   "metadata": {
    "collapsed": false
   },
   "outputs": [],
   "source": [
    "data_test = {}\n",
    "for c in comb_list:\n",
    "    data_test[c[0] + '-' + c[1]] = {}\n",
    "    m_c0 = mean_score[c[0] + '-' + c[1]]['total'][0] + mean_score[c[1] + '-' + c[0]]['total'][1]\n",
    "    m_c1 = mean_score[c[0] + '-' + c[1]]['total'][1] + mean_score[c[1] + '-' + c[0]]['total'][0]\n",
    "    data_test[c[0] + '-' + c[1]]['total'] = [m_c0, m_c1]\n",
    "    for g in groups:\n",
    "        m_c0 = mean_score[c[0] + '-' + c[1]][g[0]][0] + mean_score[c[1] + '-' + c[0]][g[0]][1]\n",
    "        m_c1 = mean_score[c[0] + '-' + c[1]][g[0]][1] + mean_score[c[1] + '-' + c[0]][g[0]][0]\n",
    "        data_test[c[0] + '-' + c[1]][g[0]] = [m_c0, m_c1]"
   ]
  },
  {
   "cell_type": "code",
   "execution_count": 12,
   "metadata": {
    "collapsed": false
   },
   "outputs": [],
   "source": [
    "# analyze differences\n",
    "stat_res = {}\n",
    "for t in test_parts:\n",
    "    stat_res[t] = {}\n",
    "    h, p_o_f = ttest_rel(data_test['fixed-reba'][t][0], data_test['fixed-reba'][t][1])\n",
    "    stat_res[t]['optimized-fixed'] = p_o_f\n",
    "    h, p_o_r = ttest_rel(data_test['relative-reba'][t][0], data_test['relative-reba'][t][1])\n",
    "    stat_res[t]['optimized-relative'] = p_o_r\n",
    "    h, p_r_f = ttest_rel(data_test['relative-fixed'][t][0], data_test['relative-fixed'][t][1])\n",
    "    stat_res[t]['relative-fixed'] = p_r_f"
   ]
  },
  {
   "cell_type": "code",
   "execution_count": 13,
   "metadata": {
    "collapsed": false
   },
   "outputs": [
    {
     "name": "stdout",
     "output_type": "stream",
     "text": [
      "right_wrist: {'optimized-fixed': 0.77949131877748012, 'optimized-relative': 0.00084074247451803262, 'relative-fixed': 5.2083777632516809e-07}\n",
      "spine: {'optimized-fixed': 0.37193945364416581, 'optimized-relative': 0.052904597891623634, 'relative-fixed': 0.19771537017867216}\n",
      "right_elbow: {'optimized-fixed': 0.2500597596091611, 'optimized-relative': 0.42912807636922423, 'relative-fixed': 0.49982765841472077}\n",
      "right_shoulder: {'optimized-fixed': 0.00045461826391898324, 'optimized-relative': 0.01038320914645666, 'relative-fixed': 0.015073011141784992}\n",
      "total: {'optimized-fixed': 0.00016906221112438348, 'optimized-relative': 0.073308898184855323, 'relative-fixed': 0.015925046916258238}\n",
      "neck: {'optimized-fixed': 0.49328834634270302, 'optimized-relative': 0.1052242505175668, 'relative-fixed': 0.076448065357420755}\n"
     ]
    }
   ],
   "source": [
    "for key, values in stat_res.iteritems():\n",
    "    print key + ': ' + str(values)"
   ]
  },
  {
   "cell_type": "code",
   "execution_count": 14,
   "metadata": {
    "collapsed": false
   },
   "outputs": [
    {
     "name": "stdout",
     "output_type": "stream",
     "text": [
      "neck_2: 0.354319938136\n",
      "neck_0: 0.452571946815\n",
      "neck_1: 0.487106416469\n",
      "right_wrist_0: 0.36446815512\n",
      "right_wrist_1: 0.47898644948\n",
      "right_shoulder_0: 0.194662871789\n",
      "right_shoulder_1: 0.343322730522\n",
      "right_shoulder_2: 0.588609646012\n",
      "right_elbow_0: 0.780195847858\n",
      "right_elbow_1: 0.0651089559725\n",
      "spine_2: 0.145911054851\n",
      "spine_1: 0.173810044262\n",
      "spine_0: 0.102491618142\n",
      "------------\n",
      "head: 0.43133276714\n",
      "spine: 0.140737572418\n",
      "shoulder: 0.375531749441\n",
      "elbow: 0.422652401915\n",
      "wrist: 0.4217273023\n",
      "------------\n",
      "total mean: 0.348581975033\n"
     ]
    }
   ],
   "source": [
    "total_dist = []\n",
    "for key, value in dist_dict.iteritems():\n",
    "    total_dist.append(mean(value))\n",
    "    print key + ': ' + str(mean(value))\n",
    "print '------------'\n",
    "\n",
    "head_mean = mean([dist_dict['neck_0'], dist_dict['neck_1'], dist_dict['neck_2']])\n",
    "spine_mean = mean([dist_dict['spine_0'], dist_dict['spine_1'], dist_dict['spine_2']])\n",
    "shoulder_mean = mean([dist_dict['right_shoulder_0'],\n",
    "                      dist_dict['right_shoulder_1'],\n",
    "                      dist_dict['right_shoulder_2']])\n",
    "elbow_mean = mean([dist_dict['right_elbow_0'], dist_dict['right_elbow_1']])\n",
    "wrist_mean = mean([dist_dict['right_wrist_0'], dist_dict['right_wrist_1']])\n",
    "\n",
    "print 'head: ' + str(head_mean)\n",
    "print 'spine: ' + str(spine_mean)\n",
    "print 'shoulder: ' + str(shoulder_mean)\n",
    "print 'elbow: ' + str(elbow_mean)\n",
    "print 'wrist: ' + str(wrist_mean)\n",
    "\n",
    "print '------------'\n",
    "print 'total mean: ' + str(mean(total_dist))"
   ]
  },
  {
   "cell_type": "code",
   "execution_count": 19,
   "metadata": {
    "collapsed": false
   },
   "outputs": [
    {
     "name": "stdout",
     "output_type": "stream",
     "text": [
      "3.35548715912\n",
      "2.63608573374\n",
      "2.21021939041\n",
      "------------------------\n",
      "3.38030202251\n",
      "2.51514134871\n"
     ]
    }
   ],
   "source": [
    "print mean(mean_score['fixed']['total'])\n",
    "print mean(mean_score['relative']['total'])\n",
    "print mean(mean_score['reba']['total'])\n",
    "print '------------------------'\n",
    "print mean(mean_score['relative']['right_wrist'])\n",
    "print mean(mean_score['reba']['right_wrist'])"
   ]
  },
  {
   "cell_type": "code",
   "execution_count": null,
   "metadata": {
    "collapsed": true
   },
   "outputs": [],
   "source": []
  }
 ],
 "metadata": {
  "kernelspec": {
   "display_name": "Python 2",
   "language": "python",
   "name": "python2"
  },
  "language_info": {
   "codemirror_mode": {
    "name": "ipython",
    "version": 2
   },
   "file_extension": ".py",
   "mimetype": "text/x-python",
   "name": "python",
   "nbconvert_exporter": "python",
   "pygments_lexer": "ipython2",
   "version": "2.7.6"
  }
 },
 "nbformat": 4,
 "nbformat_minor": 0
}
