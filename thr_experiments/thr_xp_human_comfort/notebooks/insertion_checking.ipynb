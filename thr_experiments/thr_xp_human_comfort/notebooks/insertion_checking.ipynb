{
 "metadata": {
  "name": "",
  "signature": "sha256:751e72a891f4d658ccc5e85f223aaef0f74eb24262ae4c56e65c0ee10bf47ebc"
 },
 "nbformat": 3,
 "nbformat_minor": 0,
 "worksheets": [
  {
   "cells": [
    {
     "cell_type": "markdown",
     "metadata": {},
     "source": [
      "# Insertion checking notebook\n"
     ]
    },
    {
     "cell_type": "code",
     "collapsed": false,
     "input": [
      "import rospy, baxter_commander, tf, transformations, json, cv2, cv_bridge, os\n",
      "from kinect2.client import Kinect2Client\n",
      "from sensor_msgs.msg import Image\n",
      "from os.path import join\n",
      "from copy import deepcopy"
     ],
     "language": "python",
     "metadata": {},
     "outputs": [],
     "prompt_number": 93
    },
    {
     "cell_type": "code",
     "collapsed": false,
     "input": [
      "rospy.init_node(\"insertion_notebook\")"
     ],
     "language": "python",
     "metadata": {},
     "outputs": []
    },
    {
     "cell_type": "code",
     "collapsed": false,
     "input": [
      "kinect = Kinect2Client('BAXTERFLOWERS.local')"
     ],
     "language": "python",
     "metadata": {},
     "outputs": []
    },
    {
     "cell_type": "code",
     "collapsed": false,
     "input": [
      "msg = kinect.rgbd.start()"
     ],
     "language": "python",
     "metadata": {},
     "outputs": []
    },
    {
     "cell_type": "code",
     "collapsed": false,
     "input": [
      "assert msg=='', msg"
     ],
     "language": "python",
     "metadata": {},
     "outputs": []
    },
    {
     "cell_type": "code",
     "collapsed": false,
     "input": [
      "kinect.rgbd.enable_frame_grabbing()"
     ],
     "language": "python",
     "metadata": {},
     "outputs": []
    },
    {
     "cell_type": "code",
     "collapsed": false,
     "input": [
      "kinect.tts.params.queue_on()"
     ],
     "language": "python",
     "metadata": {},
     "outputs": [],
     "prompt_number": 89
    },
    {
     "cell_type": "code",
     "collapsed": false,
     "input": [
      "msg = kinect.tts.start()"
     ],
     "language": "python",
     "metadata": {},
     "outputs": [
      {
       "metadata": {},
       "output_type": "pyout",
       "prompt_number": 90,
       "text": [
        "''"
       ]
      }
     ],
     "prompt_number": 90
    },
    {
     "cell_type": "code",
     "collapsed": false,
     "input": [
      "assert msg=='', msg"
     ],
     "language": "python",
     "metadata": {},
     "outputs": []
    },
    {
     "cell_type": "code",
     "collapsed": false,
     "input": [
      "right = baxter_commander.ArmCommander('right')"
     ],
     "language": "python",
     "metadata": {},
     "outputs": []
    },
    {
     "cell_type": "code",
     "collapsed": false,
     "input": [
      "hd = None\n",
      "def cb_usb_cam(msg):\n",
      "    global hd\n",
      "    hd = msg"
     ],
     "language": "python",
     "metadata": {},
     "outputs": []
    },
    {
     "cell_type": "code",
     "collapsed": false,
     "input": [
      "sub_hd = rospy.Subscriber('/usb_cam/image_raw', Image, cb_usb_cam, queue_size=1)"
     ],
     "language": "python",
     "metadata": {},
     "outputs": []
    },
    {
     "cell_type": "code",
     "collapsed": false,
     "input": [
      "bridge = cv_bridge.CvBridge()"
     ],
     "language": "python",
     "metadata": {},
     "outputs": []
    },
    {
     "cell_type": "code",
     "collapsed": false,
     "input": [
      "hd is not None  # Must be true if images are being published"
     ],
     "language": "python",
     "metadata": {},
     "outputs": [
      {
       "metadata": {},
       "output_type": "pyout",
       "prompt_number": 103,
       "text": [
        "True"
       ]
      }
     ],
     "prompt_number": 103
    },
    {
     "cell_type": "markdown",
     "metadata": {},
     "source": [
      "# Recording poses"
     ]
    },
    {
     "cell_type": "code",
     "collapsed": false,
     "input": [
      "right.get_current_state()"
     ],
     "language": "python",
     "metadata": {},
     "outputs": []
    },
    {
     "cell_type": "code",
     "collapsed": false,
     "input": [
      "def go_to(arm, num=0, direction='+', pose=None):\n",
      "    if not pose:\n",
      "        pose = right.get_current_state()\n",
      "    pose = deepcopy(pose)\n",
      "    if direction == '+':\n",
      "        pose.joint_state.position[-1] = pose.joint_state.position[-1] + num*2*3.1415/5\n",
      "    elif direction == '-':\n",
      "        pose.joint_state.position[-1] = pose.joint_state.position[-1] - num*2*3.1415/5\n",
      "    elif direction == 'min':\n",
      "        pose.joint_state.position[-1] = -3.1\n",
      "    elif direction == 'max':\n",
      "        pose.joint_state.position[-1] = 3.1\n",
      "    arm.move_to_controlled(pose)"
     ],
     "language": "python",
     "metadata": {},
     "outputs": [],
     "prompt_number": 94
    },
    {
     "cell_type": "code",
     "collapsed": false,
     "input": [
      "go_to(right, direction='min')"
     ],
     "language": "python",
     "metadata": {},
     "outputs": []
    },
    {
     "cell_type": "code",
     "collapsed": false,
     "input": [
      "poses = {}"
     ],
     "language": "python",
     "metadata": {},
     "outputs": []
    },
    {
     "cell_type": "code",
     "collapsed": false,
     "input": [
      "poses['hd1'] = baxter_commander.persistence.statetodict(right.get_current_state())"
     ],
     "language": "python",
     "metadata": {},
     "outputs": []
    },
    {
     "cell_type": "code",
     "collapsed": false,
     "input": [
      "poses['hd2'] = baxter_commander.persistence.statetodict(right.get_current_state())"
     ],
     "language": "python",
     "metadata": {},
     "outputs": []
    },
    {
     "cell_type": "code",
     "collapsed": false,
     "input": [
      "poses['kinect'] = baxter_commander.persistence.statetodict(right.get_current_state())"
     ],
     "language": "python",
     "metadata": {},
     "outputs": []
    },
    {
     "cell_type": "code",
     "collapsed": false,
     "input": [
      "poses['home'] = baxter_commander.persistence.statetodict(right.get_current_state())"
     ],
     "language": "python",
     "metadata": {},
     "outputs": []
    },
    {
     "cell_type": "code",
     "collapsed": false,
     "input": [
      "with open('poses.json', 'w') as f:\n",
      "    json.dump(poses, f)"
     ],
     "language": "python",
     "metadata": {},
     "outputs": []
    },
    {
     "cell_type": "markdown",
     "metadata": {},
     "source": [
      "# Recording pictures"
     ]
    },
    {
     "cell_type": "code",
     "collapsed": false,
     "input": [
      "with open('poses.json') as f:\n",
      "    poses = json.load(f)"
     ],
     "language": "python",
     "metadata": {},
     "outputs": [],
     "prompt_number": 95
    },
    {
     "cell_type": "code",
     "collapsed": false,
     "input": [
      "def record_db(path, wait):\n",
      "    global hd\n",
      "    for shape_id, shape in enumerate(['ellipse', 'star', 'trapezium', 'slice', 'hexagon']):\n",
      "        for level in [\"missing\", \"low\", \"high\", \"good\"]:\n",
      "            sentence = \"Prepare {} for shooting level {}\".format(shape, level)\n",
      "            kinect.tts.say(sentence)\n",
      "            right.move_to_controlled(baxter_commander.persistence.dicttostate(poses['home']))\n",
      "            input = raw_input(\"{} [ENTER or q-ENTER to stop]\".format(sentence))\n",
      "            if 'q' in input.lower():\n",
      "                kinect.tts.say(\"aborted\")\n",
      "                return\n",
      "            \n",
      "            for viewpoint in poses:\n",
      "                if viewpoint != 'home':\n",
      "                    go_to(right, shape_id, '+', baxter_commander.persistence.dicttostate(poses[viewpoint]))\n",
      "                    rospy.sleep(wait)\n",
      "                    kinect.tts.say(viewpoint)\n",
      "                    rgb, depth, mask = kinect.rgbd.grab_frame()\n",
      "                    cv2.imwrite(join(path, '{}_{}_{}_hd.jpg'.format(shape, level, viewpoint)), bridge.imgmsg_to_cv2(hd, desired_encoding='bgr8'))\n",
      "                    cv2.imwrite(join(path, '{}_{}_{}_rgb.jpg'.format(shape, level, viewpoint)), rgb)\n",
      "                    cv2.imwrite(join(path, '{}_{}_{}_depth.png'.format(shape, level, viewpoint)), depth)\n",
      "                    cv2.imwrite(join(path, '{}_{}_{}_mask.png'.format(shape, level, viewpoint)), mask)\n",
      "record_db(\".\", wait=4)"
     ],
     "language": "python",
     "metadata": {},
     "outputs": [
      {
       "name": "stdout",
       "output_type": "stream",
       "stream": "stdout",
       "text": [
        "Prepare ellipse for shooting level missing [ENTER or q-ENTER to stop]\n"
       ]
      },
      {
       "name": "stdout",
       "output_type": "stream",
       "stream": "stdout",
       "text": [
        "Prepare ellipse for shooting level low [ENTER or q-ENTER to stop]\n"
       ]
      },
      {
       "name": "stdout",
       "output_type": "stream",
       "stream": "stdout",
       "text": [
        "Prepare ellipse for shooting level high [ENTER or q-ENTER to stop]\n"
       ]
      },
      {
       "name": "stdout",
       "output_type": "stream",
       "stream": "stdout",
       "text": [
        "Prepare ellipse for shooting level good [ENTER or q-ENTER to stop]\n"
       ]
      },
      {
       "name": "stdout",
       "output_type": "stream",
       "stream": "stdout",
       "text": [
        "Prepare star for shooting level missing [ENTER or q-ENTER to stop]\n"
       ]
      },
      {
       "name": "stdout",
       "output_type": "stream",
       "stream": "stdout",
       "text": [
        "Prepare star for shooting level low [ENTER or q-ENTER to stop]\n"
       ]
      },
      {
       "name": "stdout",
       "output_type": "stream",
       "stream": "stdout",
       "text": [
        "Prepare star for shooting level high [ENTER or q-ENTER to stop]\n"
       ]
      },
      {
       "name": "stdout",
       "output_type": "stream",
       "stream": "stdout",
       "text": [
        "Prepare star for shooting level good [ENTER or q-ENTER to stop]\n"
       ]
      },
      {
       "name": "stdout",
       "output_type": "stream",
       "stream": "stdout",
       "text": [
        "Prepare trapezium for shooting level missing [ENTER or q-ENTER to stop]\n"
       ]
      },
      {
       "name": "stdout",
       "output_type": "stream",
       "stream": "stdout",
       "text": [
        "Prepare trapezium for shooting level low [ENTER or q-ENTER to stop]\n"
       ]
      },
      {
       "name": "stdout",
       "output_type": "stream",
       "stream": "stdout",
       "text": [
        "Prepare trapezium for shooting level high [ENTER or q-ENTER to stop]\n"
       ]
      },
      {
       "name": "stdout",
       "output_type": "stream",
       "stream": "stdout",
       "text": [
        "Prepare trapezium for shooting level good [ENTER or q-ENTER to stop]\n"
       ]
      },
      {
       "name": "stdout",
       "output_type": "stream",
       "stream": "stdout",
       "text": [
        "Prepare slice for shooting level missing [ENTER or q-ENTER to stop]\n"
       ]
      },
      {
       "name": "stdout",
       "output_type": "stream",
       "stream": "stdout",
       "text": [
        "Prepare slice for shooting level low [ENTER or q-ENTER to stop]\n"
       ]
      },
      {
       "name": "stdout",
       "output_type": "stream",
       "stream": "stdout",
       "text": [
        "Prepare slice for shooting level high [ENTER or q-ENTER to stop]\n"
       ]
      },
      {
       "name": "stdout",
       "output_type": "stream",
       "stream": "stdout",
       "text": [
        "Prepare slice for shooting level good [ENTER or q-ENTER to stop]\n"
       ]
      },
      {
       "name": "stdout",
       "output_type": "stream",
       "stream": "stdout",
       "text": [
        "Prepare hexagon for shooting level missing [ENTER or q-ENTER to stop]\n"
       ]
      },
      {
       "name": "stdout",
       "output_type": "stream",
       "stream": "stdout",
       "text": [
        "Prepare hexagon for shooting level low [ENTER or q-ENTER to stop]\n"
       ]
      },
      {
       "name": "stdout",
       "output_type": "stream",
       "stream": "stdout",
       "text": [
        "Prepare hexagon for shooting level high [ENTER or q-ENTER to stop]\n"
       ]
      },
      {
       "name": "stdout",
       "output_type": "stream",
       "stream": "stdout",
       "text": [
        "Prepare hexagon for shooting level good [ENTER or q-ENTER to stop]\n"
       ]
      }
     ],
     "prompt_number": 102
    }
   ],
   "metadata": {}
  }
 ]
}