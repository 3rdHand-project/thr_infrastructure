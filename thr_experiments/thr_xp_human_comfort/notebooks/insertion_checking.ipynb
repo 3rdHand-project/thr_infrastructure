{
 "metadata": {
  "name": "",
  "signature": "sha256:751e72a891f4d658ccc5e85f223aaef0f74eb24262ae4c56e65c0ee10bf47ebc"
 },
 "nbformat": 3,
 "nbformat_minor": 0,
 "worksheets": [
  {
   "cells": [
    {
     "cell_type": "markdown",
     "metadata": {},
     "source": [
      "# Insertion checking notebook\n"
     ]
    },
    {
     "cell_type": "code",
     "collapsed": false,
     "input": [
      "import rospy, baxter_commander, tf, transformations, json, cv2, cv_bridge, os\n",
      "from sensor_msgs.msg import Image"
     ],
     "language": "python",
     "metadata": {},
     "outputs": []
    },
    {
     "cell_type": "code",
     "collapsed": false,
     "input": [
      "rospy.init_node(\"insertion_notebook\")"
     ],
     "language": "python",
     "metadata": {},
     "outputs": []
    },
    {
     "cell_type": "code",
     "collapsed": false,
     "input": [
      "tfl = tf.TransformListener()"
     ],
     "language": "python",
     "metadata": {},
     "outputs": []
    },
    {
     "cell_type": "code",
     "collapsed": false,
     "input": [
      "rospy.set_param('/optitrack/objects', ['/shapeo'])"
     ],
     "language": "python",
     "metadata": {},
     "outputs": []
    },
    {
     "cell_type": "markdown",
     "metadata": {},
     "source": [
      "```\n",
      "roslaunch trac_ik_baxter ik_server.launch\n",
      "roslaunch baxter_commander commander.launch\n",
      "roslaunch optitrack_publisher optitrack_publisher.launch\n",
      "\n",
      "roslaunch usb_cam usb_cam.launch device:=/dev/video0 pixel_format:=mjpeg\n",
      "```"
     ]
    },
    {
     "cell_type": "code",
     "collapsed": false,
     "input": [
      "left = baxter_commander.ArmCommander('left', ik='trac')  # ik='robot', 'ros' or 'kdl'"
     ],
     "language": "python",
     "metadata": {},
     "outputs": []
    },
    {
     "cell_type": "code",
     "collapsed": false,
     "input": [
      "right = baxter_commander.ArmCommander('right', ik='trac')  # ik='robot', 'ros' or 'kdl'"
     ],
     "language": "python",
     "metadata": {},
     "outputs": []
    },
    {
     "cell_type": "code",
     "collapsed": false,
     "input": [
      "bridge = cv_bridge.CvBridge()"
     ],
     "language": "python",
     "metadata": {},
     "outputs": []
    },
    {
     "cell_type": "code",
     "collapsed": false,
     "input": [
      "image = None\n",
      "def cb_image_received(msg):\n",
      "    global image\n",
      "    image = msg\n",
      "s = rospy.Subscriber('/usb_cam/image_raw', Image, cb_image_received, queue_size=1)"
     ],
     "language": "python",
     "metadata": {},
     "outputs": []
    },
    {
     "cell_type": "markdown",
     "metadata": {},
     "source": [
      "# Opening"
     ]
    },
    {
     "cell_type": "code",
     "collapsed": false,
     "input": [
      "with open('points_in_shapeo.json') as f:\n",
      "    points_in_shapeo = json.load(f)"
     ],
     "language": "python",
     "metadata": {},
     "outputs": []
    },
    {
     "cell_type": "code",
     "collapsed": false,
     "input": [
      "with open('base_T_right.json') as f:\n",
      "    base_T_right = json.load(f)"
     ],
     "language": "python",
     "metadata": {},
     "outputs": []
    },
    {
     "cell_type": "code",
     "collapsed": false,
     "input": [
      "with open('home_left.json') as f:\n",
      "    home_left = baxter_commander.persistence.dicttostate(json.load(f))"
     ],
     "language": "python",
     "metadata": {},
     "outputs": []
    },
    {
     "cell_type": "markdown",
     "metadata": {},
     "source": [
      "# Init Database "
     ]
    },
    {
     "cell_type": "code",
     "collapsed": false,
     "input": [
      "insertion = ['misaligned', 'uncorrect_depth', 'correct'][2]"
     ],
     "language": "python",
     "metadata": {},
     "outputs": []
    },
    {
     "cell_type": "code",
     "collapsed": false,
     "input": [
      "shape = 'slice'"
     ],
     "language": "python",
     "metadata": {},
     "outputs": []
    },
    {
     "cell_type": "markdown",
     "metadata": {},
     "source": [
      "# Execution"
     ]
    },
    {
     "cell_type": "code",
     "collapsed": false,
     "input": [
      "left.move_to_controlled(home_left)"
     ],
     "language": "python",
     "metadata": {},
     "outputs": []
    },
    {
     "cell_type": "code",
     "collapsed": false,
     "input": [
      "right.move_to_controlled(base_T_right)"
     ],
     "language": "python",
     "metadata": {},
     "outputs": []
    },
    {
     "cell_type": "code",
     "collapsed": false,
     "input": [
      "for viewpoint in range(5) + range(4, -1, -1):\n",
      "    dir = os.path.join('database', shape, insertion, str(viewpoint))\n",
      "    try:\n",
      "        os.makedirs(dir)\n",
      "    except OSError:\n",
      "        # Dir exists\n",
      "        pass\n",
      "    \n",
      "    for f in range(100):\n",
      "        file = os.path.join(dir, \"{}.jpg\".format(f))\n",
      "        if not os.path.isfile(file):\n",
      "            break\n",
      "    \n",
      "    base_T_shapeo = tfl.lookupTransform('base', '/shapeo', rospy.Time(0))\n",
      "    base_T_gripper = transformations.multiply_transform(base_T_shapeo, points_in_shapeo[viewpoint])\n",
      "    target = left.get_ik(base_T_gripper, params={'end_tolerance': 0.01, 'num_attempts':10})\n",
      "    left.move_to_controlled(target)\n",
      "    rospy.sleep(5)\n",
      "    cv_img = bridge.imgmsg_to_cv2(image, desired_encoding='bgr8')\n",
      "    cv2.imwrite(file, cv_img)"
     ],
     "language": "python",
     "metadata": {},
     "outputs": []
    },
    {
     "cell_type": "code",
     "collapsed": false,
     "input": [
      "left.move_to_controlled(home_left)"
     ],
     "language": "python",
     "metadata": {},
     "outputs": []
    },
    {
     "cell_type": "markdown",
     "metadata": {},
     "source": [
      "# Recording"
     ]
    },
    {
     "cell_type": "code",
     "collapsed": false,
     "input": [
      "base_T_right = tfl.lookupTransform('base', 'right_gripper', rospy.Time(0))"
     ],
     "language": "python",
     "metadata": {},
     "outputs": []
    },
    {
     "cell_type": "code",
     "collapsed": false,
     "input": [
      "home_left = left.get_current_state()"
     ],
     "language": "python",
     "metadata": {},
     "outputs": []
    },
    {
     "cell_type": "code",
     "collapsed": false,
     "input": [
      "points_in_shapeo = []\n",
      "for i in range(5):\n",
      "    raw_input(\"Record point {}\".format(i+1))\n",
      "    points_in_shapeo.append(tfl.lookupTransform('/shapeo', 'left_gripper', rospy.Time(0)))"
     ],
     "language": "python",
     "metadata": {},
     "outputs": []
    },
    {
     "cell_type": "code",
     "collapsed": false,
     "input": [
      "with open('right.json', 'w') as f:\n",
      "    json.dump(base_T_right, f)"
     ],
     "language": "python",
     "metadata": {},
     "outputs": []
    },
    {
     "cell_type": "code",
     "collapsed": false,
     "input": [
      "with open('home_left.json', 'w') as f:\n",
      "    json.dump(baxter_commander.persistence.statetodict(home_left), f)"
     ],
     "language": "python",
     "metadata": {},
     "outputs": []
    },
    {
     "cell_type": "code",
     "collapsed": false,
     "input": [
      "with open('left.json', 'w') as f:\n",
      "    json.dump(points_in_shapeo, f)"
     ],
     "language": "python",
     "metadata": {},
     "outputs": []
    },
    {
     "cell_type": "code",
     "collapsed": false,
     "input": [],
     "language": "python",
     "metadata": {},
     "outputs": []
    }
   ],
   "metadata": {}
  }
 ]
}