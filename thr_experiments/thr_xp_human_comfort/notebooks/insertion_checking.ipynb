{
 "metadata": {
  "name": "",
  "signature": "sha256:751e72a891f4d658ccc5e85f223aaef0f74eb24262ae4c56e65c0ee10bf47ebc"
 },
 "nbformat": 3,
 "nbformat_minor": 0,
 "worksheets": [
  {
   "cells": [
    {
     "cell_type": "markdown",
     "metadata": {},
     "source": [
      "# Insertion checking notebook\n"
     ]
    },
    {
     "cell_type": "code",
     "collapsed": false,
     "input": [
      "import rospy, baxter_commander, tf, transformations, json"
     ],
     "language": "python",
     "metadata": {},
     "outputs": []
    },
    {
     "cell_type": "code",
     "collapsed": false,
     "input": [
      "rospy.init_node(\"insertion_notebook\")"
     ],
     "language": "python",
     "metadata": {},
     "outputs": []
    },
    {
     "cell_type": "code",
     "collapsed": false,
     "input": [
      "tfl = tf.TransformListener()"
     ],
     "language": "python",
     "metadata": {},
     "outputs": []
    },
    {
     "cell_type": "markdown",
     "metadata": {},
     "source": [
      "Do not forget to execute `roslaunch baxter_commander commander.launch` now, the next line will wait for it in loop..."
     ]
    },
    {
     "cell_type": "code",
     "collapsed": false,
     "input": [
      "left = baxter_commander.ArmCommander('left', ik='trac')  # ik='robot', 'ros' or 'kdl'"
     ],
     "language": "python",
     "metadata": {},
     "outputs": []
    },
    {
     "cell_type": "code",
     "collapsed": false,
     "input": [
      "right = baxter_commander.ArmCommander('right', ik='trac')  # ik='robot', 'ros' or 'kdl'"
     ],
     "language": "python",
     "metadata": {},
     "outputs": []
    },
    {
     "cell_type": "markdown",
     "metadata": {},
     "source": [
      "# Opening"
     ]
    },
    {
     "cell_type": "code",
     "collapsed": false,
     "input": [
      "with open('points_in_shapeo.json') as f:\n",
      "    points_in_shapeo = json.load(f)"
     ],
     "language": "python",
     "metadata": {},
     "outputs": []
    },
    {
     "cell_type": "code",
     "collapsed": false,
     "input": [
      "with open('base_T_right.json') as f:\n",
      "    base_T_right = json.load(f)"
     ],
     "language": "python",
     "metadata": {},
     "outputs": []
    },
    {
     "cell_type": "code",
     "collapsed": false,
     "input": [
      "with open('home_left.json') as f:\n",
      "    home_left = baxter_commander.persistence.dicttostate(json.load(f))"
     ],
     "language": "python",
     "metadata": {},
     "outputs": []
    },
    {
     "cell_type": "markdown",
     "metadata": {},
     "source": [
      "# Execution"
     ]
    },
    {
     "cell_type": "code",
     "collapsed": false,
     "input": [
      "left.move_to_controlled(home_left)"
     ],
     "language": "python",
     "metadata": {},
     "outputs": []
    },
    {
     "cell_type": "code",
     "collapsed": false,
     "input": [
      "right.move_to_controlled(base_T_right)"
     ],
     "language": "python",
     "metadata": {},
     "outputs": []
    },
    {
     "cell_type": "code",
     "collapsed": false,
     "input": [
      "for i in range(5) + range(3, -1, -1):\n",
      "    base_T_shapeo = tfl.lookupTransform('base', '/shapeo', rospy.Time(0))\n",
      "    base_T_gripper = transformations.multiply_transform(base_T_shapeo, points_in_shapeo[i])\n",
      "    target = left.get_ik(base_T_gripper, params={'end_tolerance': 0.01, 'num_attempts':10})\n",
      "    left.move_to_controlled(target)\n",
      "    rospy.sleep(2)"
     ],
     "language": "python",
     "metadata": {},
     "outputs": []
    },
    {
     "cell_type": "code",
     "collapsed": false,
     "input": [
      "left.move_to_controlled(home_left)"
     ],
     "language": "python",
     "metadata": {},
     "outputs": []
    },
    {
     "cell_type": "markdown",
     "metadata": {},
     "source": [
      "# Recording"
     ]
    },
    {
     "cell_type": "code",
     "collapsed": false,
     "input": [
      "base_T_right = tfl.lookupTransform('base', 'right_gripper', rospy.Time(0))"
     ],
     "language": "python",
     "metadata": {},
     "outputs": []
    },
    {
     "cell_type": "code",
     "collapsed": false,
     "input": [
      "home_left = left.get_current_state()"
     ],
     "language": "python",
     "metadata": {},
     "outputs": []
    },
    {
     "cell_type": "code",
     "collapsed": false,
     "input": [
      "points_in_shapeo = [] \n",
      "for i in range(5):\n",
      "    raw_input(\"Record point {}\".format(i+1))\n",
      "    points_in_shapeo.append(tfl.lookupTransform('/shapeo', 'left_gripper', rospy.Time(0)))"
     ],
     "language": "python",
     "metadata": {},
     "outputs": []
    },
    {
     "cell_type": "code",
     "collapsed": false,
     "input": [
      "with open('right.json', 'w') as f:\n",
      "    json.dump(base_T_right, f)"
     ],
     "language": "python",
     "metadata": {},
     "outputs": []
    },
    {
     "cell_type": "code",
     "collapsed": false,
     "input": [
      "with open('home_left.json', 'w') as f:\n",
      "    json.dump(baxter_commander.persistence.statetodict(home_left), f)"
     ],
     "language": "python",
     "metadata": {},
     "outputs": []
    },
    {
     "cell_type": "code",
     "collapsed": false,
     "input": [
      "with open('left.json', 'w') as f:\n",
      "    json.dump(points_in_shapeo, f)"
     ],
     "language": "python",
     "metadata": {},
     "outputs": []
    },
    {
     "cell_type": "code",
     "collapsed": false,
     "input": [],
     "language": "python",
     "metadata": {},
     "outputs": []
    }
   ],
   "metadata": {}
  }
 ]
}