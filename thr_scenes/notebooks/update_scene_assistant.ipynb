{
 "metadata": {
  "name": ""
 },
 "nbformat": 3,
 "nbformat_minor": 0,
 "worksheets": [
  {
   "cells": [
    {
     "cell_type": "markdown",
     "metadata": {},
     "source": [
      "# Assistant to update the poses of an existing scene"
     ]
    },
    {
     "cell_type": "markdown",
     "metadata": {},
     "source": [
      "Add the objects to track to parameter `/optitrack/objects`\n",
      "\n",
      "Start the optitrack_publisher:\n",
      "`roslaunch optitrack_publisher optitrack_publisher.launch ip:=<VRPN_IP>`"
     ]
    },
    {
     "cell_type": "code",
     "collapsed": false,
     "input": [
      "import rospy\n",
      "import rospkg\n",
      "import json\n",
      "import yaml\n",
      "from os.path import join\n",
      "from tf import TransformListener"
     ],
     "language": "python",
     "metadata": {},
     "outputs": []
    },
    {
     "cell_type": "code",
     "collapsed": false,
     "input": [
      "rospy.init_node('update_scene_assistant')"
     ],
     "language": "python",
     "metadata": {},
     "outputs": []
    },
    {
     "cell_type": "code",
     "collapsed": false,
     "input": [
      "rospack = rospkg.RosPack()\n",
      "tfl = TransformListener()\n",
      "world = 'base'"
     ],
     "language": "python",
     "metadata": {},
     "outputs": []
    },
    {
     "cell_type": "code",
     "collapsed": false,
     "input": [
      "with open(rospack.get_path('thr_scenes') + '/config/scenes.yaml') as f:\n",
      "    scenes = yaml.load(f)"
     ],
     "language": "python",
     "metadata": {},
     "outputs": []
    },
    {
     "cell_type": "code",
     "collapsed": false,
     "input": [
      "scene = raw_input('Type the name of the scene to update among {}: '.format([scene for scene in scenes]))\n",
      "assert scene in scenes"
     ],
     "language": "python",
     "metadata": {},
     "outputs": []
    },
    {
     "cell_type": "code",
     "collapsed": false,
     "input": [
      "objects = scenes[scene]\n",
      "print('Objects of scene {} are:\\n {}'.format(scene, objects))"
     ],
     "language": "python",
     "metadata": {},
     "outputs": []
    },
    {
     "cell_type": "code",
     "collapsed": false,
     "input": [
      "with open(join(rospack.get_path('thr_scenes'), 'config', scene, 'poses.json')) as f:\n",
      "    poses = json.load(f)"
     ],
     "language": "python",
     "metadata": {},
     "outputs": []
    },
    {
     "cell_type": "code",
     "collapsed": false,
     "input": [
      "def update_action(poses, obj):\n",
      "    for action in poses:\n",
      "        if action == 'grasp':\n",
      "            for pose_index, pose in enumerate(poses[action]):\n",
      "                raw_input(\"Please go to GRASP approach pose #{}/{} and press <enter>\".format(pose_index + 1, len(poses[action])))\n",
      "                constraint = tfl.lookupTransform(obj, \"right_gripper\", rospy.Time(0))\n",
      "                pose[\"approach\"] = constraint\n",
      "                raw_input(\"Please go to GRASP contact pose #{}/{} and press <enter>\".format(pose_index + 1, len(poses[action])))\n",
      "                constraint = tfl.lookupTransform(obj, \"right_gripper\", rospy.Time(0))\n",
      "                pose[\"grasp\"] = constraint[0]\n",
      "        elif action == 'bring':\n",
      "            raw_input(\"Please go to bring pose wrt wrist and press <enter>\")\n",
      "            constraint = tfl.lookupTransform(\"/human/wrist\", obj, rospy.Time(0))\n",
      "            poses[action][\"/human/wrist\"] = constraint\n",
      "        elif action == 'place':\n",
      "            for slave in poses[action]:\n",
      "                raise NotImplementedError(\"TODO one via for every slave\")\n",
      "                if slave == 'via':\n",
      "                    pass\n",
      "                else:\n",
      "                    pass\n",
      "        elif action == 'pick':\n",
      "            for pose_index, pose in enumerate(poses[action]):\n",
      "                raw_input(\"Please go to PICK approach pose #{}/{} and press <enter>\".format(pose_index + 1, len(poses[action])))\n",
      "                constraint = tfl.lookupTransform(obj, \"left_gripper\", rospy.Time(0))\n",
      "                pose[\"approach\"] = constraint\n",
      "                raw_input(\"Please go to PICK contact pose #{}/{} and press <enter>\".format(pose_index + 1, len(poses[action])))\n",
      "                constraint = tfl.lookupTransform(obj, \"left_gripper\", rospy.Time(0))\n",
      "                pose[\"contact\"] = constraint[0]\n",
      "        elif action == 'give':\n",
      "            raw_input(\"Please go to GIVE pose wrt wrist and press <enter>\")\n",
      "            constraint = tfl.lookupTransform(\"/human/wrist\", obj, rospy.Time(0))\n",
      "            poses[action][\"/human/wrist\"] = constraint\n",
      "        elif action == 'hold':\n",
      "            for pose_index, pose in enumerate(poses[action]):\n",
      "                raw_input(\"Please go to HOLD approach pose #{}/{} and press <enter>\".format(pose_index + 1, len(poses[action])))\n",
      "                constraint = tfl.lookupTransform(obj, \"right_gripper\", rospy.Time(0))\n",
      "                pose[\"approach\"] = constraint\n",
      "                raw_input(\"Please go to HOLD contact pose #{}/{} and press <enter>\".format(pose_index + 1, len(poses[action])))\n",
      "                constraint = tfl.lookupTransform(obj, \"right_gripper\", rospy.Time(0))\n",
      "                pose[\"contact\"] = constraint[0]\n",
      "        elif action == 'constraints':\n",
      "            for pose_index, pose_dict in enumerate(poses[action]):\n",
      "                for slave in pose_dict:\n",
      "                    raw_input(\"Please place slave {} wrt master {} in pose #{}/{} and press <enter>\".format(slave, obj,\n",
      "                                                                                                            pose_index + 1, len(poses[action])))\n",
      "                    constraint = tfl.lookupTransform(obj, slave, rospy.Time(0))\n",
      "                    pose_dict[slave] = constraint\n",
      "        else:\n",
      "            raise NotImplementedError(\"Sorry, the assistant does not know action {} yet\".format(action))"
     ],
     "language": "python",
     "metadata": {},
     "outputs": []
    },
    {
     "cell_type": "code",
     "collapsed": false,
     "input": [
      "answer = ''\n",
      "for obj in poses:\n",
      "    if answer != 'q':\n",
      "        answer = raw_input('Do you want to update object {}? [y/[n]/q] '.format(obj)).lower()\n",
      "    if answer == 'q':\n",
      "        break\n",
      "    elif answer == 'y':\n",
      "        update_action(poses[obj], obj)\n",
      "    else:\n",
      "        print \"Warning, you might have issues if {} is also the slave of another object\".format(obj)\n",
      "    print \"------------------------------------------\""
     ],
     "language": "python",
     "metadata": {},
     "outputs": []
    },
    {
     "cell_type": "code",
     "collapsed": false,
     "input": [
      "with open(join(rospack.get_path('thr_scenes'), 'config', scene, 'poses.json'), 'w') as f:\n",
      "    json.dump(poses, f, indent=4)"
     ],
     "language": "python",
     "metadata": {},
     "outputs": []
    }
   ],
   "metadata": {}
  }
 ]
}