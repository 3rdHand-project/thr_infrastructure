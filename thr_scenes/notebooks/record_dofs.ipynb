{
 "metadata": {
  "name": ""
 },
 "nbformat": 3,
 "nbformat_minor": 0,
 "worksheets": [
  {
   "cells": [
    {
     "cell_type": "code",
     "collapsed": false,
     "input": [
      "import tf\n",
      "import rospy\n",
      "import transformations"
     ],
     "language": "python",
     "metadata": {},
     "outputs": [],
     "prompt_number": 2
    },
    {
     "cell_type": "code",
     "collapsed": false,
     "input": [
      "rospy.init_node('record_dofs')"
     ],
     "language": "python",
     "metadata": {},
     "outputs": [],
     "prompt_number": 5
    },
    {
     "cell_type": "code",
     "collapsed": false,
     "input": [
      "tfl = tf.TransformListener()"
     ],
     "language": "python",
     "metadata": {},
     "outputs": [],
     "prompt_number": 6
    },
    {
     "cell_type": "code",
     "collapsed": false,
     "input": [
      "rospy.set_param('/optitrack/objects', ['/tools/screwdriver', '/human/hand'])"
     ],
     "language": "python",
     "metadata": {},
     "outputs": [],
     "prompt_number": 7
    },
    {
     "cell_type": "code",
     "collapsed": false,
     "input": [
      "points = []"
     ],
     "language": "python",
     "metadata": {},
     "outputs": [],
     "prompt_number": 15
    },
    {
     "cell_type": "code",
     "collapsed": false,
     "input": [
      "for point in range(10):\n",
      "    raw_input(\"Press <Enter> to record a new point\")\n",
      "    points.append(tfl.lookupTransform('/human/hand', '/tools/screwdriver', rospy.Time(0)))"
     ],
     "language": "python",
     "metadata": {},
     "outputs": [
      {
       "name": "stdout",
       "output_type": "stream",
       "stream": "stdout",
       "text": [
        "Press <Enter> to record a new point\n"
       ]
      },
      {
       "name": "stdout",
       "output_type": "stream",
       "stream": "stdout",
       "text": [
        "Press <Enter> to record a new point\n"
       ]
      },
      {
       "name": "stdout",
       "output_type": "stream",
       "stream": "stdout",
       "text": [
        "Press <Enter> to record a new point\n"
       ]
      },
      {
       "name": "stdout",
       "output_type": "stream",
       "stream": "stdout",
       "text": [
        "Press <Enter> to record a new point\n"
       ]
      },
      {
       "name": "stdout",
       "output_type": "stream",
       "stream": "stdout",
       "text": [
        "Press <Enter> to record a new point\n"
       ]
      },
      {
       "name": "stdout",
       "output_type": "stream",
       "stream": "stdout",
       "text": [
        "Press <Enter> to record a new point\n"
       ]
      },
      {
       "name": "stdout",
       "output_type": "stream",
       "stream": "stdout",
       "text": [
        "Press <Enter> to record a new point\n"
       ]
      },
      {
       "name": "stdout",
       "output_type": "stream",
       "stream": "stdout",
       "text": [
        "Press <Enter> to record a new point\n"
       ]
      },
      {
       "name": "stdout",
       "output_type": "stream",
       "stream": "stdout",
       "text": [
        "Press <Enter> to record a new point\n"
       ]
      },
      {
       "name": "stdout",
       "output_type": "stream",
       "stream": "stdout",
       "text": [
        "Press <Enter> to record a new point\n"
       ]
      }
     ],
     "prompt_number": 16
    },
    {
     "cell_type": "code",
     "collapsed": false,
     "input": [
      "[point[1] for point in points]"
     ],
     "language": "python",
     "metadata": {},
     "outputs": [
      {
       "metadata": {},
       "output_type": "pyout",
       "prompt_number": 18,
       "text": [
        "[(0.08208556825103294,\n",
        "  0.5263982652882683,\n",
        "  -0.05703870806741891,\n",
        "  0.8443419991735616),\n",
        " (-0.4447445499649257,\n",
        "  0.4509206829037692,\n",
        "  0.29558038816255,\n",
        "  0.7151958173393986),\n",
        " (0.776816908448802,\n",
        "  -0.1767059170835193,\n",
        "  -0.5415713641682405,\n",
        "  -0.2683858549340278),\n",
        " (0.7980688826892769,\n",
        "  0.16329642067179492,\n",
        "  -0.527353313615977,\n",
        "  0.24149289864738965),\n",
        " (0.549958059089947,\n",
        "  0.3845641420893329,\n",
        "  -0.3868924977341691,\n",
        "  0.6324324067108911),\n",
        " (0.16936926881598946,\n",
        "  0.5051099474029859,\n",
        "  -0.12126433765945754,\n",
        "  0.8375398212785485),\n",
        " (-0.355543497979601,\n",
        "  0.4670870940607966,\n",
        "  0.2490899836770133,\n",
        "  0.7703068529086673),\n",
        " (0.7369253472852607,\n",
        "  -0.23527294858143055,\n",
        "  -0.49349648753994474,\n",
        "  -0.3975536303192747),\n",
        " (0.828045381248465,\n",
        "  0.05793480321608025,\n",
        "  -0.5449493302980675,\n",
        "  0.11838341343738164),\n",
        " (0.6341871216835478,\n",
        "  0.3261752274903727,\n",
        "  -0.45318093174957186,\n",
        "  0.5348303083791441)]"
       ]
      }
     ],
     "prompt_number": 18
    },
    {
     "cell_type": "code",
     "collapsed": false,
     "input": [
      "for point in [point for point in points]:\n",
      "    print point"
     ],
     "language": "python",
     "metadata": {},
     "outputs": [
      {
       "output_type": "stream",
       "stream": "stdout",
       "text": [
        "((-0.041479461654945315, -0.06125310441255072, 0.08931345680415032), (0.08208556825103294, 0.5263982652882683, -0.05703870806741891, 0.8443419991735616))\n",
        "((-0.04820821714833651, -0.06987090436826382, 0.0860398958972044), (-0.4447445499649257, 0.4509206829037692, 0.29558038816255, 0.7151958173393986))\n",
        "((-0.04362191544994737, -0.08202261386460918, 0.08672165280930266), (0.776816908448802, -0.1767059170835193, -0.5415713641682405, -0.2683858549340278))\n",
        "((-0.03479447952321374, -0.07889094551274195, 0.09020645683245393), (0.7980688826892769, 0.16329642067179492, -0.527353313615977, 0.24149289864738965))\n",
        "((-0.03293804528111682, -0.06522605648458293, 0.08979134922031329), (0.549958059089947, 0.3845641420893329, -0.3868924977341691, 0.6324324067108911))\n",
        "((-0.045596485795274644, -0.06236057993555136, 0.08640745544872414), (0.16936926881598946, 0.5051099474029859, -0.12126433765945754, 0.8375398212785485))\n",
        "((-0.05168499819779998, -0.07322090758753463, 0.08134903568181584), (-0.355543497979601, 0.4670870940607966, 0.2490899836770133, 0.7703068529086673))\n",
        "((-0.041380623443225906, -0.07246068594702067, 0.0828884839236182), (0.7369253472852607, -0.23527294858143055, -0.49349648753994474, -0.3975536303192747))\n",
        "((-0.032993949064146766, -0.07605675545946522, 0.08469642524172644), (0.828045381248465, 0.05793480321608025, -0.5449493302980675, 0.11838341343738164))\n",
        "((-0.030184094571708564, -0.06588045433044618, 0.08866643335797525), (0.6341871216835478, 0.3261752274903727, -0.45318093174957186, 0.5348303083791441))\n"
       ]
      }
     ],
     "prompt_number": 20
    },
    {
     "cell_type": "code",
     "collapsed": false,
     "input": [],
     "language": "python",
     "metadata": {},
     "outputs": []
    }
   ],
   "metadata": {}
  }
 ]
}